{
  "cells": [
    {
      "cell_type": "markdown",
      "metadata": {
        "id": "view-in-github",
        "colab_type": "text"
      },
      "source": [
        "<a href=\"https://colab.research.google.com/github/ferwillemann/ProcessamentoDeImagem/blob/aula_10.03.25/Tutorial_Python.ipynb\" target=\"_parent\"><img src=\"https://colab.research.google.com/assets/colab-badge.svg\" alt=\"Open In Colab\"/></a>"
      ]
    },
    {
      "cell_type": "markdown",
      "metadata": {
        "id": "XPhLgs7UIiWg"
      },
      "source": [
        "Universidade do Vale do Itajaí<br>\n",
        "Escola do Mar, Ciência e Tecnologia<br>\n",
        "Engenharia de Computação - Processamento Digital de Sinais: Imagens\n",
        "\n",
        "# Introdução a Jupyter, Python, NumPy e Scipy\n",
        "\n",
        "## Recursos úteis\n",
        "\n",
        "### Ambientes\n",
        "\n",
        "- Anaconda (instalação local): https://www.anaconda.com/products/individual#Downloads\n",
        "- Google Colab (nuvem): https://colab.research.google.com/\n",
        "- OpenCV: https://pypi.org/project/opencv-python/\n",
        "- Gimp: https://www.gimp.org\n",
        "\n",
        "### Tutoriais de Python\n",
        "\n",
        "- https://docs.python.org/3/tutorial/ (oficial)\n",
        "- https://www.kaggle.com/learn/python\n",
        "- https://www.tutorialspoint.com/python\n",
        "- https://www.pythonforbeginners.com/python-tutorial\n",
        "- https://colab.research.google.com/drive/1qH2RUurym6O-OGiHBgJp1bmMS8UNEjhx\n",
        "- https://www.youtube.com/results?search_query=python\n",
        "\n",
        "### Cursos de Python\n",
        "\n",
        "- https://www.coursera.org/learn/ciencia-computacao-python-conceitos\n",
        "- https://www.datacamp.com/courses/intro-to-python-for-data-science (pago)\n",
        "- https://www.codecademy.com/learn/learn-python-3 (pago?)\n",
        "- https://opencv.org/courses/#price\n",
        "\n",
        "### Tutoriais de Jupyter\n",
        "\n",
        "- https://medium.com/codingthesmartway-com-blog/getting-started-with-jupyter-notebook-for-python-4e7082bd5d46\n",
        "- https://www.dataquest.io/blog/jupyter-notebook-tutorial/\n",
        "- https://realpython.com/jupyter-notebook-introduction/\n",
        "- https://www.youtube.com/results?search_query=jupyter\n",
        "\n",
        "### Tutoriais de NumPy\n",
        "\n",
        "- https://cs231n.github.io/python-numpy-tutorial/\n",
        "- https://numpy.org/doc/stable/user/quickstart.html\n",
        "- http://scipy-lectures.org/intro/numpy/index.html\n",
        "\n",
        "### Tutoriais da OpenCV\n",
        "\n",
        "- https://docs.opencv.org/master/d9/df8/tutorial_root.html\n",
        "- https://www.geeksforgeeks.org/opencv-python-tutorial/\n",
        "\n",
        "### Outros tutoriais\n",
        "\n",
        "- Matplotlib: https://matplotlib.org/tutorials/introductory/pyplot.html\n",
        "- Pandas: https://pandas.pydata.org/pandas-docs/stable/user_guide/10min.html\n"
      ]
    },
    {
      "cell_type": "markdown",
      "metadata": {
        "id": "b8q5ZQhrIiWh"
      },
      "source": [
        "## Markdown\n",
        "\n",
        "Podemos escrever em *itálico* ou **negrito** ou `largura fixa`, usar listas de bullets\n",
        "- item 1\n",
        "- item 2\n",
        "- item 3\n",
        "\n",
        "ou numeradas\n",
        "1. item 1\n",
        "1. item 2\n",
        "1. item 3\n",
        "\n",
        "e até mesmo usar equações em $\\LaTeX$, que podem ser inline ($f(x) = c_0 + c_1 x + c_2 x^2$) ou displayed:\n",
        "\n",
        "$$\n",
        "E = mc^2\n",
        "$$"
      ]
    },
    {
      "cell_type": "markdown",
      "metadata": {
        "id": "KCMnaqFrIiWh"
      },
      "source": [
        "Jupyter command pallete: `ctrl-shift-p`"
      ]
    },
    {
      "cell_type": "markdown",
      "metadata": {
        "id": "_d5UQr1XIiWh"
      },
      "source": [
        "## Python"
      ]
    },
    {
      "cell_type": "code",
      "execution_count": null,
      "metadata": {
        "id": "GQYniMP-IiWh",
        "outputId": "7e9b3855-22a8-49ce-964a-cad6ac001db6"
      },
      "outputs": [
        {
          "data": {
            "text/plain": [
              "4"
            ]
          },
          "execution_count": 1,
          "metadata": {},
          "output_type": "execute_result"
        }
      ],
      "source": [
        "2 + 2"
      ]
    },
    {
      "cell_type": "code",
      "execution_count": null,
      "metadata": {
        "id": "ap4LgGZrIiWi",
        "outputId": "83d6b19c-d862-490a-ff8e-d405b718d2b6"
      },
      "outputs": [
        {
          "data": {
            "text/plain": [
              "0.0"
            ]
          },
          "execution_count": 4,
          "metadata": {},
          "output_type": "execute_result"
        }
      ],
      "source": [
        "# comentário\n",
        "a = 0.\n",
        "x = 0\n",
        "a"
      ]
    },
    {
      "cell_type": "code",
      "execution_count": null,
      "metadata": {
        "id": "rkWjptgkIiWi",
        "outputId": "5db083f4-341d-46c9-cc2a-170a84b31b4e"
      },
      "outputs": [
        {
          "data": {
            "text/plain": [
              "0.0"
            ]
          },
          "execution_count": 3,
          "metadata": {},
          "output_type": "execute_result"
        }
      ],
      "source": [
        "a"
      ]
    },
    {
      "cell_type": "code",
      "execution_count": null,
      "metadata": {
        "id": "dOOj-5-ZIiWi",
        "outputId": "333e756d-1e6c-4a6a-de85-abef8cab9bca"
      },
      "outputs": [
        {
          "data": {
            "text/plain": [
              "True"
            ]
          },
          "execution_count": 4,
          "metadata": {},
          "output_type": "execute_result"
        }
      ],
      "source": [
        "a == 0"
      ]
    },
    {
      "cell_type": "code",
      "execution_count": null,
      "metadata": {
        "id": "9ADsYpDNIiWi",
        "outputId": "19aa3c13-7167-450f-8017-7549454adb5d"
      },
      "outputs": [
        {
          "data": {
            "text/plain": [
              "float"
            ]
          },
          "execution_count": 5,
          "metadata": {},
          "output_type": "execute_result"
        }
      ],
      "source": [
        "type(a)"
      ]
    },
    {
      "cell_type": "code",
      "execution_count": null,
      "metadata": {
        "id": "RqfPyvQoIiWi",
        "outputId": "e726d96e-fdc6-4e6c-f589-d84be98f0062"
      },
      "outputs": [
        {
          "data": {
            "text/plain": [
              "int"
            ]
          },
          "execution_count": 5,
          "metadata": {},
          "output_type": "execute_result"
        }
      ],
      "source": [
        "type(x)"
      ]
    },
    {
      "cell_type": "code",
      "execution_count": null,
      "metadata": {
        "id": "zzRj3n-0IiWi"
      },
      "outputs": [],
      "source": [
        "b = .5"
      ]
    },
    {
      "cell_type": "code",
      "execution_count": null,
      "metadata": {
        "id": "nPLijNn1IiWi",
        "outputId": "fb668891-9f79-4249-8954-8d61c357ab96"
      },
      "outputs": [
        {
          "data": {
            "text/plain": [
              "0.5"
            ]
          },
          "execution_count": 9,
          "metadata": {},
          "output_type": "execute_result"
        }
      ],
      "source": [
        "b"
      ]
    },
    {
      "cell_type": "code",
      "execution_count": null,
      "metadata": {
        "id": "vPAZpw6yIiWi",
        "outputId": "c96ee8b5-3812-44ba-d7cf-724d575365e0"
      },
      "outputs": [
        {
          "data": {
            "text/plain": [
              "float"
            ]
          },
          "execution_count": 10,
          "metadata": {},
          "output_type": "execute_result"
        }
      ],
      "source": [
        "type(b)"
      ]
    },
    {
      "cell_type": "code",
      "execution_count": null,
      "metadata": {
        "id": "eM9LQtnWIiWj",
        "outputId": "4f4c9e26-cc1c-4a03-8fa5-fc10f8d7c987"
      },
      "outputs": [
        {
          "data": {
            "text/plain": [
              "False"
            ]
          },
          "execution_count": 11,
          "metadata": {},
          "output_type": "execute_result"
        }
      ],
      "source": [
        "b == 0"
      ]
    },
    {
      "cell_type": "code",
      "execution_count": null,
      "metadata": {
        "id": "fBw6wYfnIiWj",
        "outputId": "bda4b0c1-b107-4433-e3d7-52d279327d1f"
      },
      "outputs": [
        {
          "name": "stdout",
          "output_type": "stream",
          "text": [
            "5.5\n"
          ]
        }
      ],
      "source": [
        "a = 2\n",
        "b = 3.5\n",
        "c = a + b\n",
        "#2 + 3.5\n",
        "print(c)"
      ]
    },
    {
      "cell_type": "code",
      "execution_count": null,
      "metadata": {
        "id": "Bl1JmDBuIiWj",
        "outputId": "8b642c23-9b11-4df4-9966-42bbc881043c"
      },
      "outputs": [
        {
          "data": {
            "text/plain": [
              "1.5"
            ]
          },
          "execution_count": 14,
          "metadata": {},
          "output_type": "execute_result"
        }
      ],
      "source": [
        "saida = 3/2\n",
        "saida"
      ]
    },
    {
      "cell_type": "code",
      "execution_count": null,
      "metadata": {
        "id": "zXxr36WZIiWj",
        "outputId": "5188d24c-9e6e-44f5-eaa4-4a2fc2d1d697"
      },
      "outputs": [
        {
          "data": {
            "text/plain": [
              "2.0"
            ]
          },
          "execution_count": 12,
          "metadata": {},
          "output_type": "execute_result"
        }
      ],
      "source": [
        "d = 2\n",
        "float(d) # (float)d"
      ]
    },
    {
      "cell_type": "code",
      "execution_count": null,
      "metadata": {
        "id": "fhS5ImmAIiWj",
        "outputId": "0c56cca4-d4db-4d1e-858f-63e0c64af4c3"
      },
      "outputs": [
        {
          "data": {
            "text/plain": [
              "1"
            ]
          },
          "execution_count": 15,
          "metadata": {},
          "output_type": "execute_result"
        }
      ],
      "source": [
        "int(1.8)"
      ]
    },
    {
      "cell_type": "code",
      "execution_count": null,
      "metadata": {
        "id": "SmcsemvPIiWj",
        "outputId": "133ca17c-e29d-422e-fba8-6d8665cd1935"
      },
      "outputs": [
        {
          "data": {
            "text/plain": [
              "3.5"
            ]
          },
          "execution_count": 16,
          "metadata": {},
          "output_type": "execute_result"
        }
      ],
      "source": [
        "a\n",
        "b"
      ]
    },
    {
      "cell_type": "code",
      "execution_count": null,
      "metadata": {
        "id": "VcnKQaGZIiWj",
        "outputId": "2419bd1a-5809-403e-ab2b-1d7010555242"
      },
      "outputs": [
        {
          "name": "stdout",
          "output_type": "stream",
          "text": [
            "2\n",
            "3.5\n",
            "Var a:  2  Var b:  3.5\n"
          ]
        }
      ],
      "source": [
        "print(a)\n",
        "print(b)\n",
        "print(\"Var a: \",a,\" Var b: \",b)"
      ]
    },
    {
      "cell_type": "code",
      "execution_count": null,
      "metadata": {
        "scrolled": true,
        "id": "XvXmHw1GIiWj",
        "outputId": "b243fa46-65fa-4b15-ca86-46b410e9602c"
      },
      "outputs": [
        {
          "name": "stdout",
          "output_type": "stream",
          "text": [
            "True\n",
            "False\n"
          ]
        }
      ],
      "source": [
        "t = True\n",
        "f = False\n",
        "print(t or f) #não usa || e && #bitwise & | ^ ~\n",
        "print(t and f)"
      ]
    },
    {
      "cell_type": "code",
      "execution_count": null,
      "metadata": {
        "id": "WPiAHAZOIiWj",
        "outputId": "dd1e901a-f240-4538-e108-bc458f46e729"
      },
      "outputs": [
        {
          "data": {
            "text/plain": [
              "False"
            ]
          },
          "execution_count": 23,
          "metadata": {},
          "output_type": "execute_result"
        }
      ],
      "source": [
        "a > -1 and b < 2"
      ]
    },
    {
      "cell_type": "code",
      "execution_count": null,
      "metadata": {
        "id": "YjSw2GxMIiWj",
        "outputId": "37de0f69-99ef-4ed8-d90a-ab818b2d3953"
      },
      "outputs": [
        {
          "data": {
            "text/plain": [
              "'Hello world'"
            ]
          },
          "execution_count": 24,
          "metadata": {},
          "output_type": "execute_result"
        }
      ],
      "source": [
        "s = 5\n",
        "s = 'Hello world'\n",
        "s"
      ]
    },
    {
      "cell_type": "code",
      "execution_count": null,
      "metadata": {
        "id": "cMHu2GL1IiWj",
        "outputId": "cb8eeac4-d8d9-47fb-9e80-67daf3532c25"
      },
      "outputs": [
        {
          "name": "stdout",
          "output_type": "stream",
          "text": [
            "Hello world\n"
          ]
        }
      ],
      "source": [
        "print(s)"
      ]
    },
    {
      "cell_type": "code",
      "execution_count": null,
      "metadata": {
        "id": "M7TbHSWvIiWj",
        "outputId": "8d6ff80b-fe55-4a5d-bff7-53c990d2635f"
      },
      "outputs": [
        {
          "data": {
            "text/plain": [
              "str"
            ]
          },
          "execution_count": 26,
          "metadata": {},
          "output_type": "execute_result"
        }
      ],
      "source": [
        "type(s)"
      ]
    },
    {
      "cell_type": "code",
      "execution_count": null,
      "metadata": {
        "id": "Fip8zQgiIiWk",
        "outputId": "63dd5d85-26ac-40cb-8898-57f6f568ebbf"
      },
      "outputs": [
        {
          "data": {
            "text/plain": [
              "'Hello world'"
            ]
          },
          "execution_count": 27,
          "metadata": {},
          "output_type": "execute_result"
        }
      ],
      "source": [
        "s = \"Hello world\"\n",
        "s"
      ]
    },
    {
      "cell_type": "code",
      "execution_count": null,
      "metadata": {
        "id": "EPNM-rJiIiWk",
        "outputId": "7796c2b7-d7a2-42d4-f5cf-8f8835d5187c"
      },
      "outputs": [
        {
          "name": "stdout",
          "output_type": "stream",
          "text": [
            "it's interesting\n"
          ]
        }
      ],
      "source": [
        "s = \"it's interesting\"\n",
        "print(s)"
      ]
    },
    {
      "cell_type": "code",
      "execution_count": null,
      "metadata": {
        "id": "YBVMxqZHIiWk",
        "outputId": "e87b0d75-01f5-4dc9-96a0-a0621604bb6c"
      },
      "outputs": [
        {
          "data": {
            "text/plain": [
              "\"IT'S INTERESTING\""
            ]
          },
          "execution_count": 29,
          "metadata": {},
          "output_type": "execute_result"
        }
      ],
      "source": [
        "s.upper()"
      ]
    },
    {
      "cell_type": "code",
      "execution_count": null,
      "metadata": {
        "id": "03wpyvDpIiWk",
        "outputId": "f15aac5c-a566-4064-d7e0-dd051fac0bfd"
      },
      "outputs": [
        {
          "name": "stdout",
          "output_type": "stream",
          "text": [
            "this is interesting\n"
          ]
        },
        {
          "data": {
            "text/plain": [
              "'this is interesting'"
            ]
          },
          "execution_count": 30,
          "metadata": {},
          "output_type": "execute_result"
        }
      ],
      "source": [
        "str1 = 'this'\n",
        "str2 = ' is '\n",
        "str3 = 'interesting'\n",
        "str_res = str1 + str2 + str3\n",
        "print(str_res)\n",
        "'this' + ' is ' + 'interesting'"
      ]
    },
    {
      "cell_type": "code",
      "execution_count": null,
      "metadata": {
        "id": "P8-AMNXUIiWk",
        "outputId": "8cbd3c71-ef64-4a4e-d8d3-b54dde83ead4"
      },
      "outputs": [
        {
          "data": {
            "text/plain": [
              "'42.5'"
            ]
          },
          "execution_count": 33,
          "metadata": {},
          "output_type": "execute_result"
        }
      ],
      "source": [
        "'42.5'"
      ]
    },
    {
      "cell_type": "code",
      "execution_count": null,
      "metadata": {
        "id": "R4jjcIzWIiWk",
        "outputId": "b82290cf-3c31-4ace-da51-5e62a7c1bbb9"
      },
      "outputs": [
        {
          "data": {
            "text/plain": [
              "42"
            ]
          },
          "execution_count": 37,
          "metadata": {},
          "output_type": "execute_result"
        }
      ],
      "source": [
        "int(float('42.5'))"
      ]
    },
    {
      "cell_type": "code",
      "execution_count": null,
      "metadata": {
        "id": "seqlDgtQIiWk",
        "outputId": "4dfd2792-2ea9-4e76-b49b-aaaac70c83cd"
      },
      "outputs": [
        {
          "data": {
            "text/plain": [
              "'42.5'"
            ]
          },
          "execution_count": 39,
          "metadata": {},
          "output_type": "execute_result"
        }
      ],
      "source": [
        "str(42.5)"
      ]
    },
    {
      "cell_type": "code",
      "execution_count": null,
      "metadata": {
        "id": "MUDG-LBOIiWk",
        "outputId": "c3d4735b-b271-44c5-dfbb-13c67373e619"
      },
      "outputs": [
        {
          "data": {
            "text/plain": [
              "(1+1j)"
            ]
          },
          "execution_count": 40,
          "metadata": {},
          "output_type": "execute_result"
        }
      ],
      "source": [
        "c = 1 + 1j\n",
        "c"
      ]
    },
    {
      "cell_type": "code",
      "execution_count": null,
      "metadata": {
        "id": "WkvZdiq3IiWk",
        "outputId": "b659ac8d-6d62-4e13-b7b2-a7a3d447fad6"
      },
      "outputs": [
        {
          "data": {
            "text/plain": [
              "complex"
            ]
          },
          "execution_count": 41,
          "metadata": {},
          "output_type": "execute_result"
        }
      ],
      "source": [
        "type(c)"
      ]
    },
    {
      "cell_type": "code",
      "execution_count": null,
      "metadata": {
        "id": "uOd3DioUIiWk",
        "outputId": "32393ed5-e54c-4882-cdf3-9768e1727d11"
      },
      "outputs": [
        {
          "data": {
            "text/plain": [
              "(1-1j)"
            ]
          },
          "execution_count": 29,
          "metadata": {},
          "output_type": "execute_result"
        }
      ],
      "source": [
        "c.conjugate()"
      ]
    },
    {
      "cell_type": "code",
      "execution_count": null,
      "metadata": {
        "id": "5EKUFapUIiWk"
      },
      "outputs": [],
      "source": [
        "def quadrado(x):\n",
        "    '''\n",
        "    Retorna x elevado ao quadrado\n",
        "    '''\n",
        "    y = x**2\n",
        "    return y"
      ]
    },
    {
      "cell_type": "code",
      "execution_count": null,
      "metadata": {
        "id": "5fT17ClFIiWk",
        "outputId": "ce21348d-e46f-452a-8f9c-6b9b3c8fad24"
      },
      "outputs": [
        {
          "data": {
            "text/plain": [
              "9"
            ]
          },
          "execution_count": 44,
          "metadata": {},
          "output_type": "execute_result"
        }
      ],
      "source": [
        "quadrado(3)"
      ]
    },
    {
      "cell_type": "code",
      "execution_count": null,
      "metadata": {
        "id": "g-6YB3bqIiWk",
        "outputId": "b84807ea-8bb8-4fe2-f527-a3bf569de5bb"
      },
      "outputs": [
        {
          "data": {
            "text/plain": [
              "function"
            ]
          },
          "execution_count": 45,
          "metadata": {},
          "output_type": "execute_result"
        }
      ],
      "source": [
        "type(quadrado)"
      ]
    },
    {
      "cell_type": "code",
      "execution_count": null,
      "metadata": {
        "id": "usv8Ou3jIiWk"
      },
      "outputs": [],
      "source": [
        "def quadrado(x, arred=False):\n",
        "    '''\n",
        "    Retorna x elevado ao quadrado,\n",
        "    opcionalmente arredondando para um inteiro\n",
        "    arred é bool\n",
        "    '''\n",
        "    if arred:\n",
        "        y = x**2\n",
        "        y = int(round(y))\n",
        "    else:\n",
        "        y = x**2\n",
        "    return y"
      ]
    },
    {
      "cell_type": "code",
      "execution_count": null,
      "metadata": {
        "id": "Snq8g__iIiWo",
        "outputId": "c720f0c4-7d84-4e17-fea4-5fb84782ac92"
      },
      "outputs": [
        {
          "data": {
            "text/plain": [
              "3"
            ]
          },
          "execution_count": 50,
          "metadata": {},
          "output_type": "execute_result"
        }
      ],
      "source": [
        "quadrado(1.75, arred=True)"
      ]
    },
    {
      "cell_type": "code",
      "execution_count": null,
      "metadata": {
        "id": "usz9ZcTLIiWo",
        "outputId": "c5cee3cc-cb63-43dd-bcc7-3541a6806da1"
      },
      "outputs": [
        {
          "data": {
            "text/plain": [
              "2"
            ]
          },
          "execution_count": 51,
          "metadata": {},
          "output_type": "execute_result"
        }
      ],
      "source": [
        "quadrado(1.5, arred=True)"
      ]
    },
    {
      "cell_type": "code",
      "execution_count": null,
      "metadata": {
        "id": "0o2irHuVIiWo",
        "outputId": "943ae699-be55-4c77-ceed-a7a4af2d4e14"
      },
      "outputs": [
        {
          "data": {
            "text/plain": [
              "\u001b[1;31mSignature:\u001b[0m \u001b[0mquadrado\u001b[0m\u001b[1;33m(\u001b[0m\u001b[0mx\u001b[0m\u001b[1;33m,\u001b[0m \u001b[0marred\u001b[0m\u001b[1;33m=\u001b[0m\u001b[1;32mFalse\u001b[0m\u001b[1;33m)\u001b[0m\u001b[1;33m\u001b[0m\u001b[1;33m\u001b[0m\u001b[0m\n",
              "\u001b[1;31mDocstring:\u001b[0m\n",
              "Retorna x elevado ao quadrado,\n",
              "opcionalmente arredondando para um inteiro\n",
              "arred é bool\n",
              "\u001b[1;31mFile:\u001b[0m      c:\\users\\felip\\dropbox\\universidade\\univali\\matérias\\teec\\<ipython-input-47-cba0a97d3a2d>\n",
              "\u001b[1;31mType:\u001b[0m      function\n"
            ]
          },
          "metadata": {},
          "output_type": "display_data"
        }
      ],
      "source": [
        "#shift-tab, shift-tab-tab\n",
        "quadrado?"
      ]
    },
    {
      "cell_type": "code",
      "execution_count": null,
      "metadata": {
        "id": "jgF2nWnfIiWo"
      },
      "outputs": [],
      "source": []
    },
    {
      "cell_type": "code",
      "execution_count": null,
      "metadata": {
        "id": "Y0Pbw_U9IiWo",
        "outputId": "7ceacf28-0ef1-4d01-cabe-28ec2c852ea0"
      },
      "outputs": [
        {
          "data": {
            "text/plain": [
              "[1, 'texto', 5.6]"
            ]
          },
          "execution_count": 54,
          "metadata": {},
          "output_type": "execute_result"
        }
      ],
      "source": [
        "L = [1, 'texto', 5.6]\n",
        "L"
      ]
    },
    {
      "cell_type": "code",
      "execution_count": null,
      "metadata": {
        "id": "pf-cm4DAIiWo",
        "outputId": "3611dfe9-2765-4781-e3c9-e4e298b83ee8"
      },
      "outputs": [
        {
          "data": {
            "text/plain": [
              "list"
            ]
          },
          "execution_count": 55,
          "metadata": {},
          "output_type": "execute_result"
        }
      ],
      "source": [
        "type(L)"
      ]
    },
    {
      "cell_type": "code",
      "execution_count": null,
      "metadata": {
        "id": "fkEfpbckIiWo",
        "outputId": "4d3859ab-6eb9-4162-8db2-51df308afde8"
      },
      "outputs": [
        {
          "data": {
            "text/plain": [
              "1"
            ]
          },
          "execution_count": 56,
          "metadata": {},
          "output_type": "execute_result"
        }
      ],
      "source": [
        "L[0]"
      ]
    },
    {
      "cell_type": "code",
      "execution_count": null,
      "metadata": {
        "id": "sRRbmC0vIiWo",
        "outputId": "4d6f3f59-edec-450f-a0f0-1fd23c5742f1"
      },
      "outputs": [
        {
          "data": {
            "text/plain": [
              "'texto'"
            ]
          },
          "execution_count": 57,
          "metadata": {},
          "output_type": "execute_result"
        }
      ],
      "source": [
        "L[1]"
      ]
    },
    {
      "cell_type": "code",
      "execution_count": null,
      "metadata": {
        "id": "Zk1noYG0IiWp",
        "outputId": "d6e84df8-19e9-4e52-9faf-278d7e3f36c7"
      },
      "outputs": [
        {
          "data": {
            "text/plain": [
              "5.6"
            ]
          },
          "execution_count": 60,
          "metadata": {},
          "output_type": "execute_result"
        }
      ],
      "source": [
        "L[2]"
      ]
    },
    {
      "cell_type": "code",
      "execution_count": null,
      "metadata": {
        "id": "anycsg1CIiWp",
        "outputId": "70ad5fc7-dd3d-406e-fc0b-53345bbfa1e3"
      },
      "outputs": [
        {
          "data": {
            "text/plain": [
              "5.6"
            ]
          },
          "execution_count": 61,
          "metadata": {},
          "output_type": "execute_result"
        }
      ],
      "source": [
        "L[-1]"
      ]
    },
    {
      "cell_type": "code",
      "execution_count": null,
      "metadata": {
        "id": "c20tyFuUIiWp"
      },
      "outputs": [],
      "source": [
        "L[2] = 5.7"
      ]
    },
    {
      "cell_type": "code",
      "execution_count": null,
      "metadata": {
        "id": "f23zNbauIiWp",
        "outputId": "0130c37e-def8-4cf2-aeb4-945990c8bd99"
      },
      "outputs": [
        {
          "data": {
            "text/plain": [
              "[1, 'texto', 5.7]"
            ]
          },
          "execution_count": 63,
          "metadata": {},
          "output_type": "execute_result"
        }
      ],
      "source": [
        "L"
      ]
    },
    {
      "cell_type": "code",
      "execution_count": null,
      "metadata": {
        "id": "KtA__qATIiWp",
        "outputId": "a339b31b-d98f-4ff5-ba7f-297f5fb48ddc"
      },
      "outputs": [
        {
          "data": {
            "text/plain": [
              "3"
            ]
          },
          "execution_count": 64,
          "metadata": {},
          "output_type": "execute_result"
        }
      ],
      "source": [
        "len(L)"
      ]
    },
    {
      "cell_type": "code",
      "execution_count": null,
      "metadata": {
        "id": "ghZyVJfqIiWp"
      },
      "outputs": [],
      "source": [
        "L.append('novo')"
      ]
    },
    {
      "cell_type": "code",
      "execution_count": null,
      "metadata": {
        "id": "SBrTDQV2IiWp",
        "outputId": "a6fe5d43-eb2c-4d51-c64e-70ee39a2c188"
      },
      "outputs": [
        {
          "data": {
            "text/plain": [
              "[1, 'texto', 5.7, 'novo']"
            ]
          },
          "execution_count": 66,
          "metadata": {},
          "output_type": "execute_result"
        }
      ],
      "source": [
        "L"
      ]
    },
    {
      "cell_type": "code",
      "execution_count": null,
      "metadata": {
        "scrolled": true,
        "id": "z7s7WBfGIiWp",
        "outputId": "ecb12886-7c8b-4b36-e115-84b5e41fe856"
      },
      "outputs": [
        {
          "ename": "TypeError",
          "evalue": "can only concatenate list (not \"int\") to list",
          "output_type": "error",
          "traceback": [
            "\u001b[1;31m---------------------------------------------------------------------------\u001b[0m",
            "\u001b[1;31mTypeError\u001b[0m                                 Traceback (most recent call last)",
            "\u001b[1;32m<ipython-input-67-4dcd9ff3492e>\u001b[0m in \u001b[0;36m<module>\u001b[1;34m\u001b[0m\n\u001b[1;32m----> 1\u001b[1;33m \u001b[0mL\u001b[0m \u001b[1;33m+\u001b[0m \u001b[1;36m123\u001b[0m\u001b[1;33m\u001b[0m\u001b[1;33m\u001b[0m\u001b[0m\n\u001b[0m",
            "\u001b[1;31mTypeError\u001b[0m: can only concatenate list (not \"int\") to list"
          ]
        }
      ],
      "source": [
        "L + 123"
      ]
    },
    {
      "cell_type": "code",
      "execution_count": null,
      "metadata": {
        "id": "NdQhrruwIiWp",
        "outputId": "f7c0299f-2a7a-4f2d-8f35-82b9c5e08a73"
      },
      "outputs": [
        {
          "data": {
            "text/plain": [
              "[1, 'texto', 5.7, 'novo', 123]"
            ]
          },
          "execution_count": 68,
          "metadata": {},
          "output_type": "execute_result"
        }
      ],
      "source": [
        "L + [123]"
      ]
    },
    {
      "cell_type": "code",
      "execution_count": null,
      "metadata": {
        "id": "PVzjB5-ZIiWp",
        "outputId": "1bbd6b8c-f5fe-4718-8723-facb29d5e687"
      },
      "outputs": [
        {
          "data": {
            "text/plain": [
              "[1, 'texto', 5.7, 'novo']"
            ]
          },
          "execution_count": 69,
          "metadata": {},
          "output_type": "execute_result"
        }
      ],
      "source": [
        "L"
      ]
    },
    {
      "cell_type": "code",
      "execution_count": null,
      "metadata": {
        "id": "g_frsSODIiWp"
      },
      "outputs": [],
      "source": [
        "L = L + [123]"
      ]
    },
    {
      "cell_type": "code",
      "execution_count": null,
      "metadata": {
        "id": "dYJQcK6GIiWp",
        "outputId": "cd03d6ae-d142-4d76-bad5-2f2ed28a0d8b"
      },
      "outputs": [
        {
          "data": {
            "text/plain": [
              "[1, 'texto', 5.7, 'novo', 123]"
            ]
          },
          "execution_count": 71,
          "metadata": {},
          "output_type": "execute_result"
        }
      ],
      "source": [
        "L"
      ]
    },
    {
      "cell_type": "code",
      "execution_count": null,
      "metadata": {
        "id": "wWmMxJLRIiWp",
        "outputId": "09768e3a-a127-4492-f033-fa787c4807c1"
      },
      "outputs": [
        {
          "data": {
            "text/plain": [
              "[0, 1, 2, 3, 4, 5, 6, 7, 8, 9]"
            ]
          },
          "execution_count": 72,
          "metadata": {},
          "output_type": "execute_result"
        }
      ],
      "source": [
        "list(range(10)) # o valor final não é incluído"
      ]
    },
    {
      "cell_type": "code",
      "execution_count": null,
      "metadata": {
        "id": "_yt1iP4-IiWp",
        "outputId": "66aaa855-497d-4fee-c2ba-3f56fcf173d8"
      },
      "outputs": [
        {
          "data": {
            "text/plain": [
              "[1, 2, 3, 4, 5, 6, 7, 8, 9]"
            ]
          },
          "execution_count": 73,
          "metadata": {},
          "output_type": "execute_result"
        }
      ],
      "source": [
        "list(range(1,10)) # o valor final não é incluído"
      ]
    },
    {
      "cell_type": "code",
      "execution_count": null,
      "metadata": {
        "id": "d4FLmpYHIiWp",
        "outputId": "b357f9e4-3b1c-4a15-c816-cde696d88271"
      },
      "outputs": [
        {
          "data": {
            "text/plain": [
              "range(0, 10)"
            ]
          },
          "execution_count": 74,
          "metadata": {},
          "output_type": "execute_result"
        }
      ],
      "source": [
        "range(10)"
      ]
    },
    {
      "cell_type": "code",
      "execution_count": null,
      "metadata": {
        "id": "H6LB7ZyBIiWp",
        "outputId": "bfeba97a-f1d3-4e97-aec0-6776cf5c5a18"
      },
      "outputs": [
        {
          "name": "stdout",
          "output_type": "stream",
          "text": [
            "0\n",
            "1\n",
            "2\n",
            "3\n",
            "4\n",
            "5\n",
            "6\n",
            "7\n",
            "8\n",
            "9\n"
          ]
        }
      ],
      "source": [
        "for i in range(10):\n",
        "    print(i)"
      ]
    },
    {
      "cell_type": "code",
      "execution_count": null,
      "metadata": {
        "scrolled": true,
        "id": "wNogfpcYIiWp",
        "outputId": "1a84c756-0b81-4300-a35c-0d68de12e7bd"
      },
      "outputs": [
        {
          "data": {
            "text/plain": [
              "['texto', 5.7]"
            ]
          },
          "execution_count": 56,
          "metadata": {},
          "output_type": "execute_result"
        }
      ],
      "source": [
        "L[1:3] # a última posição não é considerada 1 < in e fim > 3"
      ]
    },
    {
      "cell_type": "code",
      "execution_count": null,
      "metadata": {
        "id": "SdaHGsXUIiWp",
        "outputId": "1d013d3c-fe02-4b12-8955-e3744c984a71"
      },
      "outputs": [
        {
          "data": {
            "text/plain": [
              "[0, 1, 2, 3, 4, 5, 6, 7, 8, 9]"
            ]
          },
          "execution_count": 76,
          "metadata": {},
          "output_type": "execute_result"
        }
      ],
      "source": [
        "v = list(range(10))\n",
        "v"
      ]
    },
    {
      "cell_type": "code",
      "execution_count": null,
      "metadata": {
        "id": "4trJwWPwIiWp",
        "outputId": "663b9044-f5b7-4528-85ee-fad6c0add3e1"
      },
      "outputs": [
        {
          "data": {
            "text/plain": [
              "[1, 2, 3, 4]"
            ]
          },
          "execution_count": 77,
          "metadata": {},
          "output_type": "execute_result"
        }
      ],
      "source": [
        "v[1:5]"
      ]
    },
    {
      "cell_type": "code",
      "execution_count": null,
      "metadata": {
        "id": "Z89fGQJjIiWp",
        "outputId": "332aa50c-6698-4464-acd4-acf7147a21e3"
      },
      "outputs": [
        {
          "data": {
            "text/plain": [
              "[0, 1, 2, 3, 4]"
            ]
          },
          "execution_count": 78,
          "metadata": {},
          "output_type": "execute_result"
        }
      ],
      "source": [
        "v[:5]"
      ]
    },
    {
      "cell_type": "code",
      "execution_count": null,
      "metadata": {
        "id": "G1w2CMwyIiWq",
        "outputId": "e2f5089f-2966-4880-95a9-782a628fa5b3"
      },
      "outputs": [
        {
          "data": {
            "text/plain": [
              "[3, 4, 5, 6, 7, 8, 9]"
            ]
          },
          "execution_count": 79,
          "metadata": {},
          "output_type": "execute_result"
        }
      ],
      "source": [
        "v[3:]"
      ]
    },
    {
      "cell_type": "code",
      "execution_count": null,
      "metadata": {
        "id": "deRM0fvzIiWq",
        "outputId": "308f307b-f878-45f0-dbc9-8943b271d3a4"
      },
      "outputs": [
        {
          "data": {
            "text/plain": [
              "[3, 4, 5, 6, 7, 8]"
            ]
          },
          "execution_count": 80,
          "metadata": {},
          "output_type": "execute_result"
        }
      ],
      "source": [
        "v[3:-1]"
      ]
    },
    {
      "cell_type": "code",
      "execution_count": null,
      "metadata": {
        "id": "ZMUoLIGZIiWq",
        "outputId": "e14b7c1c-57af-4c18-dafc-40dc1f729385"
      },
      "outputs": [
        {
          "data": {
            "text/plain": [
              "[0, 1, 2, 3, 4, 5, 6, 7]"
            ]
          },
          "execution_count": 81,
          "metadata": {},
          "output_type": "execute_result"
        }
      ],
      "source": [
        "v[:-2]"
      ]
    },
    {
      "cell_type": "code",
      "execution_count": null,
      "metadata": {
        "id": "eu89hzCeIiWq",
        "outputId": "22928416-1c20-4ae5-c211-e0cd79ed2b8f"
      },
      "outputs": [
        {
          "data": {
            "text/plain": [
              "[0, 2, 4, 6, 8]"
            ]
          },
          "execution_count": 82,
          "metadata": {},
          "output_type": "execute_result"
        }
      ],
      "source": [
        "v[::2]"
      ]
    },
    {
      "cell_type": "code",
      "execution_count": null,
      "metadata": {
        "id": "uCz4k7xyIiWq",
        "outputId": "a5e2d4bf-73ce-46d5-a64a-daaf01f9b952"
      },
      "outputs": [
        {
          "data": {
            "text/plain": [
              "[9, 8, 7, 6, 5, 4, 3, 2, 1, 0]"
            ]
          },
          "execution_count": 83,
          "metadata": {},
          "output_type": "execute_result"
        }
      ],
      "source": [
        "v[::-1]"
      ]
    },
    {
      "cell_type": "code",
      "execution_count": null,
      "metadata": {
        "id": "grW4waCyIiWq",
        "outputId": "232ea3f1-76e5-4bcc-d63c-017a97ecc9e1"
      },
      "outputs": [
        {
          "data": {
            "text/plain": [
              "45"
            ]
          },
          "execution_count": 84,
          "metadata": {},
          "output_type": "execute_result"
        }
      ],
      "source": [
        "sum(v)"
      ]
    },
    {
      "cell_type": "code",
      "execution_count": null,
      "metadata": {
        "id": "NZDMinZ7IiWq",
        "outputId": "8013822d-2efb-4660-d7a8-7bfb30edbdc1"
      },
      "outputs": [
        {
          "data": {
            "text/plain": [
              "(1, 'dois', 'dois', 3.0, 4)"
            ]
          },
          "execution_count": 85,
          "metadata": {},
          "output_type": "execute_result"
        }
      ],
      "source": [
        "t = (1, 'dois', 'dois',3.0, 4)\n",
        "t"
      ]
    },
    {
      "cell_type": "code",
      "execution_count": null,
      "metadata": {
        "id": "emEOcqccIiWq",
        "outputId": "ce912b71-5697-4928-d93c-e8e7dbffc446"
      },
      "outputs": [
        {
          "data": {
            "text/plain": [
              "tuple"
            ]
          },
          "execution_count": 86,
          "metadata": {},
          "output_type": "execute_result"
        }
      ],
      "source": [
        "type(t)"
      ]
    },
    {
      "cell_type": "code",
      "execution_count": null,
      "metadata": {
        "id": "2KwxZ-uMIiWq",
        "outputId": "e9bc9c75-beb5-47ca-9ed9-296e5b5b19d4"
      },
      "outputs": [
        {
          "data": {
            "text/plain": [
              "('dois', 'dois', 3.0, 4)"
            ]
          },
          "execution_count": 87,
          "metadata": {},
          "output_type": "execute_result"
        }
      ],
      "source": [
        "t[1:]"
      ]
    },
    {
      "cell_type": "code",
      "execution_count": null,
      "metadata": {
        "id": "l4xWeJpNIiWq",
        "outputId": "09a26e86-7f9e-4189-f0c8-f068d3170f36"
      },
      "outputs": [
        {
          "data": {
            "text/plain": [
              "5"
            ]
          },
          "execution_count": 88,
          "metadata": {},
          "output_type": "execute_result"
        }
      ],
      "source": [
        "len(t)"
      ]
    },
    {
      "cell_type": "code",
      "execution_count": null,
      "metadata": {
        "id": "F34jUN44IiWq",
        "outputId": "bb75e379-66a6-4eeb-87a3-628ad2a7f698"
      },
      "outputs": [
        {
          "data": {
            "text/plain": [
              "2"
            ]
          },
          "execution_count": 89,
          "metadata": {},
          "output_type": "execute_result"
        }
      ],
      "source": [
        "t.count('dois')"
      ]
    },
    {
      "cell_type": "code",
      "execution_count": null,
      "metadata": {
        "id": "yozLq-ZoIiWq",
        "outputId": "80dc519b-3166-41f0-a50c-5d23aa8808e9"
      },
      "outputs": [
        {
          "ename": "TypeError",
          "evalue": "'tuple' object does not support item assignment",
          "output_type": "error",
          "traceback": [
            "\u001b[1;31m---------------------------------------------------------------------------\u001b[0m",
            "\u001b[1;31mTypeError\u001b[0m                                 Traceback (most recent call last)",
            "\u001b[1;32m<ipython-input-90-5fc8aa39e942>\u001b[0m in \u001b[0;36m<module>\u001b[1;34m\u001b[0m\n\u001b[0;32m      1\u001b[0m \u001b[1;31m# tupla não é mutável\u001b[0m\u001b[1;33m\u001b[0m\u001b[1;33m\u001b[0m\u001b[1;33m\u001b[0m\u001b[0m\n\u001b[1;32m----> 2\u001b[1;33m \u001b[0mt\u001b[0m\u001b[1;33m[\u001b[0m\u001b[1;36m2\u001b[0m\u001b[1;33m]\u001b[0m \u001b[1;33m=\u001b[0m \u001b[1;36m9\u001b[0m\u001b[1;33m\u001b[0m\u001b[1;33m\u001b[0m\u001b[0m\n\u001b[0m",
            "\u001b[1;31mTypeError\u001b[0m: 'tuple' object does not support item assignment"
          ]
        }
      ],
      "source": [
        "# tupla não é mutável\n",
        "t[2] = 9"
      ]
    },
    {
      "cell_type": "code",
      "execution_count": null,
      "metadata": {
        "id": "x4wFGzkKIiWq",
        "outputId": "1ffe238b-f8f8-424e-eefc-6b0c22d58c75"
      },
      "outputs": [
        {
          "data": {
            "text/plain": [
              "[1, 'dois', 'dois', 3.0, 4]"
            ]
          },
          "execution_count": 91,
          "metadata": {},
          "output_type": "execute_result"
        }
      ],
      "source": [
        "list(t)"
      ]
    },
    {
      "cell_type": "code",
      "execution_count": null,
      "metadata": {
        "id": "Sc593UfCIiWq",
        "outputId": "fe42bea2-c035-4d0b-93ba-500f00588c6f"
      },
      "outputs": [
        {
          "data": {
            "text/plain": [
              "['i',\n",
              " 't',\n",
              " \"'\",\n",
              " 's',\n",
              " ' ',\n",
              " 'i',\n",
              " 'n',\n",
              " 't',\n",
              " 'e',\n",
              " 'r',\n",
              " 'e',\n",
              " 's',\n",
              " 't',\n",
              " 'i',\n",
              " 'n',\n",
              " 'g']"
            ]
          },
          "execution_count": 92,
          "metadata": {},
          "output_type": "execute_result"
        }
      ],
      "source": [
        "list(s)"
      ]
    },
    {
      "cell_type": "code",
      "execution_count": null,
      "metadata": {
        "id": "xsRpdeNkIiWq",
        "outputId": "e3e4e57e-a17d-40ba-ce1a-89073cd9e8a6"
      },
      "outputs": [
        {
          "data": {
            "text/plain": [
              "'interest'"
            ]
          },
          "execution_count": 93,
          "metadata": {},
          "output_type": "execute_result"
        }
      ],
      "source": [
        "s[5:-3]"
      ]
    },
    {
      "cell_type": "code",
      "execution_count": null,
      "metadata": {
        "id": "UNiRS0GPIiWq",
        "outputId": "bed346e1-be5b-4131-936e-59652de80fd7"
      },
      "outputs": [
        {
          "data": {
            "text/plain": [
              "(2, 3.5, [0, 1, 2, 3, 4, 5, 6, 7, 8, 9], \"it's interesting\")"
            ]
          },
          "execution_count": 94,
          "metadata": {},
          "output_type": "execute_result"
        }
      ],
      "source": [
        "a, b, v, s"
      ]
    },
    {
      "cell_type": "code",
      "execution_count": null,
      "metadata": {
        "id": "7MsnzCxIIiWq",
        "outputId": "57cdb4c6-164a-456c-9caf-f3465012e4e4"
      },
      "outputs": [
        {
          "name": "stdout",
          "output_type": "stream",
          "text": [
            "1\n",
            "2\n",
            "3\n"
          ]
        }
      ],
      "source": [
        "x, y, z = 1, 2, 3\n",
        "print(x)\n",
        "print(y)\n",
        "print(z)"
      ]
    },
    {
      "cell_type": "code",
      "execution_count": null,
      "metadata": {
        "id": "_ALZBXJ3IiWq",
        "outputId": "9067b4cd-0eed-4a72-aaf5-3364a07fc7ee"
      },
      "outputs": [
        {
          "data": {
            "text/plain": [
              "{'nome': 'Fulano', 'idade': 22}"
            ]
          },
          "execution_count": 96,
          "metadata": {},
          "output_type": "execute_result"
        }
      ],
      "source": [
        "d = {'nome':'Fulano', 'idade':22}\n",
        "d"
      ]
    },
    {
      "cell_type": "code",
      "execution_count": null,
      "metadata": {
        "id": "AluM9mwHIiWr",
        "outputId": "7d17a552-b8dc-467c-b0a2-c5f9b9b57005"
      },
      "outputs": [
        {
          "data": {
            "text/plain": [
              "dict"
            ]
          },
          "execution_count": 97,
          "metadata": {},
          "output_type": "execute_result"
        }
      ],
      "source": [
        "type(d)"
      ]
    },
    {
      "cell_type": "code",
      "execution_count": null,
      "metadata": {
        "id": "mXqVwct2IiWr",
        "outputId": "c2b22e2c-c295-4892-92de-587e46d508f5"
      },
      "outputs": [
        {
          "data": {
            "text/plain": [
              "'Fulano'"
            ]
          },
          "execution_count": 79,
          "metadata": {},
          "output_type": "execute_result"
        }
      ],
      "source": [
        "d['nome']"
      ]
    },
    {
      "cell_type": "code",
      "execution_count": null,
      "metadata": {
        "id": "3l3bCi5pIiWr",
        "outputId": "2f28dae9-dfac-44d0-a547-895e4c048116"
      },
      "outputs": [
        {
          "data": {
            "text/plain": [
              "22"
            ]
          },
          "execution_count": 80,
          "metadata": {},
          "output_type": "execute_result"
        }
      ],
      "source": [
        "d['idade']"
      ]
    },
    {
      "cell_type": "code",
      "execution_count": null,
      "metadata": {
        "id": "skZNH8s3IiWr",
        "outputId": "afe07516-a9dd-4717-88ae-b035970b877f"
      },
      "outputs": [
        {
          "data": {
            "text/plain": [
              "['nome', 'idade']"
            ]
          },
          "execution_count": 98,
          "metadata": {},
          "output_type": "execute_result"
        }
      ],
      "source": [
        "list(d.keys())"
      ]
    },
    {
      "cell_type": "code",
      "execution_count": null,
      "metadata": {
        "id": "Ue1YCOfTIiWr",
        "outputId": "9825374e-027d-4f5e-8fbc-f4e7bf844d3a"
      },
      "outputs": [
        {
          "data": {
            "text/plain": [
              "['Fulano', 22]"
            ]
          },
          "execution_count": 99,
          "metadata": {},
          "output_type": "execute_result"
        }
      ],
      "source": [
        "list(d.values())"
      ]
    },
    {
      "cell_type": "code",
      "execution_count": null,
      "metadata": {
        "id": "4bszs1VDIiWr",
        "outputId": "b7394b20-13c6-48dd-9cbd-3bffeb1afb2d"
      },
      "outputs": [
        {
          "data": {
            "text/plain": [
              "[0, 1, 4, 9, 16, 25, 36, 49, 64, 81]"
            ]
          },
          "execution_count": 100,
          "metadata": {},
          "output_type": "execute_result"
        }
      ],
      "source": [
        "[n**2 for n in range(10)] # list compreehension"
      ]
    },
    {
      "cell_type": "code",
      "execution_count": null,
      "metadata": {
        "id": "pMWJIEEDIiWr",
        "outputId": "913d874e-9bcf-418b-83f4-417c9b0dafbc"
      },
      "outputs": [
        {
          "data": {
            "text/plain": [
              "[0, 4, 16, 36, 64]"
            ]
          },
          "execution_count": 101,
          "metadata": {},
          "output_type": "execute_result"
        }
      ],
      "source": [
        "[n**2 for n in range(10) if n % 2 == 0]"
      ]
    },
    {
      "cell_type": "code",
      "execution_count": null,
      "metadata": {
        "id": "e_kKBgwIIiWr"
      },
      "outputs": [],
      "source": [
        "class Aluno(object):\n",
        "\n",
        "    def __init__(self, nome):\n",
        "        self.nome = nome\n",
        "\n",
        "    def entra_nota(self, nota):\n",
        "        nota = round(2*nota)/2 # arredondamento Univali\n",
        "        self.nota = nota\n",
        "\n",
        "    def aprovado(self):\n",
        "        return self.nota >= 5.75"
      ]
    },
    {
      "cell_type": "code",
      "execution_count": null,
      "metadata": {
        "id": "td-46U96IiWr",
        "outputId": "ff280482-45ab-4e9c-d119-cdf4fc141ca1"
      },
      "outputs": [
        {
          "data": {
            "text/plain": [
              "'Fulano'"
            ]
          },
          "execution_count": 104,
          "metadata": {},
          "output_type": "execute_result"
        }
      ],
      "source": [
        "aluno = Aluno('Fulano')\n",
        "aluno.nome"
      ]
    },
    {
      "cell_type": "code",
      "execution_count": null,
      "metadata": {
        "id": "e-cmJYAxIiWr",
        "outputId": "081cf665-290b-497b-8713-3f68ea775129"
      },
      "outputs": [
        {
          "data": {
            "text/plain": [
              "5.5"
            ]
          },
          "execution_count": 105,
          "metadata": {},
          "output_type": "execute_result"
        }
      ],
      "source": [
        "aluno.entra_nota(5.74)\n",
        "aluno.nota"
      ]
    },
    {
      "cell_type": "code",
      "execution_count": null,
      "metadata": {
        "id": "746EPm0sIiWr",
        "outputId": "60d2859c-2305-4a95-e457-a3684d47da57"
      },
      "outputs": [
        {
          "data": {
            "text/plain": [
              "False"
            ]
          },
          "execution_count": 88,
          "metadata": {},
          "output_type": "execute_result"
        }
      ],
      "source": [
        "aluno.aprovado()"
      ]
    },
    {
      "cell_type": "code",
      "execution_count": null,
      "metadata": {
        "id": "hTZJM8x3IiWr"
      },
      "outputs": [],
      "source": []
    },
    {
      "cell_type": "markdown",
      "metadata": {
        "id": "WkLxpgcDIiWs"
      },
      "source": [
        "## NumPy"
      ]
    },
    {
      "cell_type": "code",
      "execution_count": null,
      "metadata": {
        "id": "btUaf3WaIiWs"
      },
      "outputs": [],
      "source": [
        "import numpy as np"
      ]
    },
    {
      "cell_type": "code",
      "execution_count": null,
      "metadata": {
        "id": "sJK052KwIiWs",
        "outputId": "01bf2e37-ad26-4b35-da7a-22865b201457"
      },
      "outputs": [
        {
          "data": {
            "text/plain": [
              "3"
            ]
          },
          "execution_count": 90,
          "metadata": {},
          "output_type": "execute_result"
        }
      ],
      "source": [
        "np.abs(-3)"
      ]
    },
    {
      "cell_type": "code",
      "execution_count": null,
      "metadata": {
        "id": "EAuKTUBjIiWs"
      },
      "outputs": [],
      "source": [
        "import numpy as np"
      ]
    },
    {
      "cell_type": "code",
      "execution_count": null,
      "metadata": {
        "id": "dsLBT5NtIiWs",
        "outputId": "1c267828-1246-4f4b-be29-da1baebb2110"
      },
      "outputs": [
        {
          "data": {
            "text/plain": [
              "3"
            ]
          },
          "execution_count": 92,
          "metadata": {},
          "output_type": "execute_result"
        }
      ],
      "source": [
        "np.abs(-3)"
      ]
    },
    {
      "cell_type": "code",
      "execution_count": null,
      "metadata": {
        "id": "m8tPR9zcIiWs",
        "outputId": "696f40ba-43b6-40a9-ffc4-fd7fc83b7548"
      },
      "outputs": [
        {
          "data": {
            "text/plain": [
              "1"
            ]
          },
          "execution_count": 93,
          "metadata": {},
          "output_type": "execute_result"
        }
      ],
      "source": [
        "np.min([1, 2, 3, 4])"
      ]
    },
    {
      "cell_type": "code",
      "execution_count": null,
      "metadata": {
        "id": "8BJVqwMfIiWs",
        "outputId": "2ad5ea85-4a82-451d-a92a-264a8ed9c452"
      },
      "outputs": [
        {
          "data": {
            "text/plain": [
              "array([1, 2, 3, 4])"
            ]
          },
          "execution_count": 94,
          "metadata": {},
          "output_type": "execute_result"
        }
      ],
      "source": [
        "a = np.array([1, 2, 3, 4])\n",
        "a"
      ]
    },
    {
      "cell_type": "code",
      "execution_count": null,
      "metadata": {
        "id": "Kf3_yoZSIiWs",
        "outputId": "7c2c1621-9b9d-4f3c-d4d1-5ab6abf87606"
      },
      "outputs": [
        {
          "data": {
            "text/plain": [
              "dtype('int32')"
            ]
          },
          "execution_count": 95,
          "metadata": {},
          "output_type": "execute_result"
        }
      ],
      "source": [
        "a.dtype"
      ]
    },
    {
      "cell_type": "code",
      "execution_count": null,
      "metadata": {
        "id": "7GHQN0BrIiWs",
        "outputId": "94868c5d-7ddc-4c5e-8e77-a5f5d97dd5e4"
      },
      "outputs": [
        {
          "data": {
            "text/plain": [
              "array([1., 2., 3., 4.])"
            ]
          },
          "execution_count": 96,
          "metadata": {},
          "output_type": "execute_result"
        }
      ],
      "source": [
        "a = np.array([1, 2, 3, 4.0])\n",
        "a"
      ]
    },
    {
      "cell_type": "code",
      "execution_count": null,
      "metadata": {
        "id": "2CBxrcLRIiWs",
        "outputId": "96eacde5-8cc2-4f7d-d2c8-7c3a2e2a9809"
      },
      "outputs": [
        {
          "data": {
            "text/plain": [
              "dtype('float64')"
            ]
          },
          "execution_count": 97,
          "metadata": {},
          "output_type": "execute_result"
        }
      ],
      "source": [
        "a.dtype"
      ]
    },
    {
      "cell_type": "code",
      "execution_count": null,
      "metadata": {
        "id": "ftBLUB34IiWs",
        "outputId": "9b6723d6-679b-4b83-c732-11572c59a47c"
      },
      "outputs": [
        {
          "data": {
            "text/plain": [
              "numpy.ndarray"
            ]
          },
          "execution_count": 98,
          "metadata": {},
          "output_type": "execute_result"
        }
      ],
      "source": [
        "type(a)"
      ]
    },
    {
      "cell_type": "code",
      "execution_count": null,
      "metadata": {
        "id": "cTEMxGrYIiWs",
        "outputId": "586c58d3-ea14-4d0e-f5d0-69e07370e874"
      },
      "outputs": [
        {
          "data": {
            "text/plain": [
              "(4,)"
            ]
          },
          "execution_count": 99,
          "metadata": {},
          "output_type": "execute_result"
        }
      ],
      "source": [
        "a.shape"
      ]
    },
    {
      "cell_type": "code",
      "execution_count": null,
      "metadata": {
        "id": "eywXWxfHIiWs",
        "outputId": "d929ee97-c2a6-4b1d-a3a4-c8e7961a7267"
      },
      "outputs": [
        {
          "data": {
            "text/plain": [
              "10.0"
            ]
          },
          "execution_count": 100,
          "metadata": {},
          "output_type": "execute_result"
        }
      ],
      "source": [
        "sum(a)"
      ]
    },
    {
      "cell_type": "code",
      "execution_count": null,
      "metadata": {
        "id": "Plzt7bECIiWs",
        "outputId": "33c33d80-7bdf-4cf8-d238-f8eca0ee21e0"
      },
      "outputs": [
        {
          "data": {
            "text/plain": [
              "10.0"
            ]
          },
          "execution_count": 101,
          "metadata": {},
          "output_type": "execute_result"
        }
      ],
      "source": [
        "np.sum(a)"
      ]
    },
    {
      "cell_type": "code",
      "execution_count": null,
      "metadata": {
        "id": "xYAcVBa8IiWs",
        "outputId": "8dc96bb5-b81e-47b9-b12c-cf3b88d8e7ef"
      },
      "outputs": [
        {
          "data": {
            "text/plain": [
              "10.0"
            ]
          },
          "execution_count": 102,
          "metadata": {},
          "output_type": "execute_result"
        }
      ],
      "source": [
        "a.sum()"
      ]
    },
    {
      "cell_type": "code",
      "execution_count": null,
      "metadata": {
        "id": "A9R1tLuZIiWs",
        "outputId": "34a8004c-eec4-4496-f26d-97c540826d1f"
      },
      "outputs": [
        {
          "data": {
            "text/plain": [
              "3"
            ]
          },
          "execution_count": 103,
          "metadata": {},
          "output_type": "execute_result"
        }
      ],
      "source": [
        "a.argmax()"
      ]
    },
    {
      "cell_type": "code",
      "execution_count": null,
      "metadata": {
        "id": "LiTxa9nhIiWs",
        "outputId": "d130e176-0f3d-4401-de72-584d48b4213a"
      },
      "outputs": [
        {
          "data": {
            "text/plain": [
              "1"
            ]
          },
          "execution_count": 104,
          "metadata": {},
          "output_type": "execute_result"
        }
      ],
      "source": [
        "a.ndim"
      ]
    },
    {
      "cell_type": "code",
      "execution_count": null,
      "metadata": {
        "id": "GcA8f436IiWs",
        "outputId": "33a27c84-7009-42ab-ab6f-90d5ffbb3f53"
      },
      "outputs": [
        {
          "data": {
            "text/plain": [
              "(4,)"
            ]
          },
          "execution_count": 105,
          "metadata": {},
          "output_type": "execute_result"
        }
      ],
      "source": [
        "a.shape"
      ]
    },
    {
      "cell_type": "code",
      "execution_count": null,
      "metadata": {
        "id": "7PCZzjTzIiWs"
      },
      "outputs": [],
      "source": [
        "a[3] = 4.6"
      ]
    },
    {
      "cell_type": "code",
      "execution_count": null,
      "metadata": {
        "id": "y8LBDJzmIiWs",
        "outputId": "93601a1d-cb96-4668-d7db-1f7fc8c43acc"
      },
      "outputs": [
        {
          "name": "stdout",
          "output_type": "stream",
          "text": [
            "(4,)\n",
            "(1, 4)\n",
            "[[0]\n",
            " [2]\n",
            " [3]\n",
            " [4]]\n"
          ]
        }
      ],
      "source": [
        "a = np.array([1, 2, 3, 4])\n",
        "a[0] = 0.7\n",
        "c =a.copy()\n",
        "c = np.array([c])\n",
        "aux = c.T\n",
        "print(a.shape)\n",
        "print(c.shape)\n",
        "print(aux)"
      ]
    },
    {
      "cell_type": "code",
      "execution_count": null,
      "metadata": {
        "id": "UC-1vWabIiWs",
        "outputId": "b35057bb-2033-460b-9f85-c76732f6339a"
      },
      "outputs": [
        {
          "data": {
            "text/plain": [
              "array([0.7, 2. , 3. , 4. ])"
            ]
          },
          "execution_count": 112,
          "metadata": {},
          "output_type": "execute_result"
        }
      ],
      "source": [
        "#a = np.array([1, 2, 3, 4.0])\n",
        "#a = np.array([1, 2, 3, 4], dtype=float)\n",
        "a = np.array([1, 2, 3, 4])\n",
        "a = a.astype(float)\n",
        "a[0] = 0.7\n",
        "a"
      ]
    },
    {
      "cell_type": "code",
      "execution_count": null,
      "metadata": {
        "id": "Uxn6F97yIiWt",
        "outputId": "c4fd1d94-5fd5-4495-a0cd-eecdbe51f281"
      },
      "outputs": [
        {
          "data": {
            "text/plain": [
              "array([5., 2., 3., 4.])"
            ]
          },
          "execution_count": 113,
          "metadata": {},
          "output_type": "execute_result"
        }
      ],
      "source": [
        "a = np.array([1, 2, 3, 4], dtype=float)\n",
        "b = a\n",
        "a[0] = 5\n",
        "a"
      ]
    },
    {
      "cell_type": "code",
      "execution_count": null,
      "metadata": {
        "id": "9rfNxRR-IiWt",
        "outputId": "937d6af0-6cc4-41b1-c811-433884c57504"
      },
      "outputs": [
        {
          "data": {
            "text/plain": [
              "array([5., 2., 3., 4.])"
            ]
          },
          "execution_count": 114,
          "metadata": {},
          "output_type": "execute_result"
        }
      ],
      "source": [
        "b"
      ]
    },
    {
      "cell_type": "code",
      "execution_count": null,
      "metadata": {
        "id": "9vRHrDNoIiWt",
        "outputId": "843dcde2-51fb-4e72-827c-59ab71f1438b"
      },
      "outputs": [
        {
          "data": {
            "text/plain": [
              "True"
            ]
          },
          "execution_count": 115,
          "metadata": {},
          "output_type": "execute_result"
        }
      ],
      "source": [
        "b is a"
      ]
    },
    {
      "cell_type": "code",
      "execution_count": null,
      "metadata": {
        "id": "BLO_BtoXIiWt",
        "outputId": "69638822-f3fd-4e34-d756-939b3a8bfdae"
      },
      "outputs": [
        {
          "name": "stdout",
          "output_type": "stream",
          "text": [
            "False\n"
          ]
        },
        {
          "data": {
            "text/plain": [
              "array([5., 2., 3., 4.])"
            ]
          },
          "execution_count": 116,
          "metadata": {},
          "output_type": "execute_result"
        }
      ],
      "source": [
        "a = np.array([1, 2, 3, 4], dtype=float)\n",
        "b = a.copy()\n",
        "print(b is a)\n",
        "a[0] = 5\n",
        "a"
      ]
    },
    {
      "cell_type": "code",
      "execution_count": null,
      "metadata": {
        "id": "C7ONOdgdIiWt",
        "outputId": "a156cdad-af6e-4657-8237-648c6cb6566c"
      },
      "outputs": [
        {
          "data": {
            "text/plain": [
              "array([1., 2., 3., 4.])"
            ]
          },
          "execution_count": 117,
          "metadata": {},
          "output_type": "execute_result"
        }
      ],
      "source": [
        "b"
      ]
    },
    {
      "cell_type": "code",
      "execution_count": null,
      "metadata": {
        "id": "klfQ52sTIiWt",
        "outputId": "7ec770b4-1a86-4797-8702-7a2b795b0431"
      },
      "outputs": [
        {
          "data": {
            "text/plain": [
              "array([6., 3., 4., 5.])"
            ]
          },
          "execution_count": 118,
          "metadata": {},
          "output_type": "execute_result"
        }
      ],
      "source": [
        "a + 1"
      ]
    },
    {
      "cell_type": "code",
      "execution_count": null,
      "metadata": {
        "id": "apGBg9o7IiWt",
        "outputId": "39dc2826-9aca-4868-9213-bfd7d0654fb2"
      },
      "outputs": [
        {
          "data": {
            "text/plain": [
              "array([25.,  4.,  9., 16.])"
            ]
          },
          "execution_count": 119,
          "metadata": {},
          "output_type": "execute_result"
        }
      ],
      "source": [
        "a*a"
      ]
    },
    {
      "cell_type": "code",
      "execution_count": null,
      "metadata": {
        "id": "PJrxkGdMIiWt",
        "outputId": "7b5faba5-e965-4edf-cf1f-f9e20c8a5b09"
      },
      "outputs": [
        {
          "data": {
            "text/plain": [
              "array([25.,  4.,  9., 16.])"
            ]
          },
          "execution_count": 120,
          "metadata": {},
          "output_type": "execute_result"
        }
      ],
      "source": [
        "a**2"
      ]
    },
    {
      "cell_type": "code",
      "execution_count": null,
      "metadata": {
        "id": "2bvcMZQ7IiWt",
        "outputId": "c3cfbf47-4568-4f34-bc4c-1bacdcd590c7"
      },
      "outputs": [
        {
          "data": {
            "text/plain": [
              "array([[0, 1, 2, 3],\n",
              "       [4, 5, 6, 7]])"
            ]
          },
          "execution_count": 121,
          "metadata": {},
          "output_type": "execute_result"
        }
      ],
      "source": [
        "x = np.array([[0,1,2,3],[4,5,6,7]])\n",
        "x"
      ]
    },
    {
      "cell_type": "code",
      "execution_count": null,
      "metadata": {
        "id": "QaMLHq4iIiWt",
        "outputId": "d9d00fce-880d-4048-ed3e-0d511c5bd2fb"
      },
      "outputs": [
        {
          "data": {
            "text/plain": [
              "(2, 4)"
            ]
          },
          "execution_count": 122,
          "metadata": {},
          "output_type": "execute_result"
        }
      ],
      "source": [
        "x.shape"
      ]
    },
    {
      "cell_type": "code",
      "execution_count": null,
      "metadata": {
        "id": "aipqkBCOIiWt",
        "outputId": "60aa0782-2942-430a-fd90-5ecc8d4a2f7f"
      },
      "outputs": [
        {
          "data": {
            "text/plain": [
              "6"
            ]
          },
          "execution_count": 123,
          "metadata": {},
          "output_type": "execute_result"
        }
      ],
      "source": [
        "x[1,2]"
      ]
    },
    {
      "cell_type": "code",
      "execution_count": null,
      "metadata": {
        "id": "Tq3izYIvIiWt",
        "outputId": "42e841ae-e738-4add-970d-f61fd64f8f95"
      },
      "outputs": [
        {
          "data": {
            "text/plain": [
              "6"
            ]
          },
          "execution_count": 124,
          "metadata": {},
          "output_type": "execute_result"
        }
      ],
      "source": [
        "x[1][2]"
      ]
    },
    {
      "cell_type": "code",
      "execution_count": null,
      "metadata": {
        "id": "W3eD_r2zIiWt",
        "outputId": "d21541c1-1366-4f75-cf7c-ba02cb77a5a7"
      },
      "outputs": [
        {
          "data": {
            "text/plain": [
              "array([[0, 4],\n",
              "       [1, 5],\n",
              "       [2, 6],\n",
              "       [3, 7]])"
            ]
          },
          "execution_count": 125,
          "metadata": {},
          "output_type": "execute_result"
        }
      ],
      "source": [
        "x.T"
      ]
    },
    {
      "cell_type": "code",
      "execution_count": null,
      "metadata": {
        "id": "TA-_y1RCIiWt",
        "outputId": "086007ff-c02f-4106-d1f6-0825807d0420"
      },
      "outputs": [
        {
          "data": {
            "text/plain": [
              "(4, 2)"
            ]
          },
          "execution_count": 126,
          "metadata": {},
          "output_type": "execute_result"
        }
      ],
      "source": [
        "x.T.shape"
      ]
    },
    {
      "cell_type": "code",
      "execution_count": null,
      "metadata": {
        "id": "5dkxwohMIiWt",
        "outputId": "41785fea-9f36-4f28-8b0c-df49a9496ed3"
      },
      "outputs": [
        {
          "data": {
            "text/plain": [
              "array([[[ 0,  1,  2,  3],\n",
              "        [ 4,  5,  6,  7]],\n",
              "\n",
              "       [[ 8,  9, 10, 11],\n",
              "        [12, 13, 14, 15]],\n",
              "\n",
              "       [[16, 17, 18, 19],\n",
              "        [20, 21, 22, 23]]])"
            ]
          },
          "execution_count": 127,
          "metadata": {},
          "output_type": "execute_result"
        }
      ],
      "source": [
        "y = np.array([[[0, 1, 2, 3], [4, 5, 6, 7]], [[8, 9, 10, 11], [12, 13, 14, 15]], [[16, 17, 18, 19], [20, 21, 22, 23]]])\n",
        "y"
      ]
    },
    {
      "cell_type": "code",
      "execution_count": null,
      "metadata": {
        "id": "Z1WOE9UwIiWt",
        "outputId": "ddc2cd9e-d83e-42c8-bd1f-fd17445e604a"
      },
      "outputs": [
        {
          "data": {
            "text/plain": [
              "(3, 2, 4)"
            ]
          },
          "execution_count": 128,
          "metadata": {},
          "output_type": "execute_result"
        }
      ],
      "source": [
        "y.shape"
      ]
    },
    {
      "cell_type": "code",
      "execution_count": null,
      "metadata": {
        "scrolled": true,
        "id": "w-pB3clCIiWu",
        "outputId": "e59a932e-ff32-4f5e-a9e8-1a19be75f2d3"
      },
      "outputs": [
        {
          "data": {
            "text/plain": [
              "10"
            ]
          },
          "execution_count": 129,
          "metadata": {},
          "output_type": "execute_result"
        }
      ],
      "source": [
        "y[1][0][2]"
      ]
    },
    {
      "cell_type": "code",
      "execution_count": null,
      "metadata": {
        "id": "ABAeL3NnIiWu",
        "outputId": "12eedcfc-c5ed-4079-af7d-1c3f6fe665f9"
      },
      "outputs": [
        {
          "data": {
            "text/plain": [
              "10"
            ]
          },
          "execution_count": 130,
          "metadata": {},
          "output_type": "execute_result"
        }
      ],
      "source": [
        "y[1,0,2]"
      ]
    },
    {
      "cell_type": "code",
      "execution_count": null,
      "metadata": {
        "id": "57AKkdhqIiWu",
        "outputId": "3aee2f9c-15c1-415a-ab05-5d3a61307d1c"
      },
      "outputs": [
        {
          "data": {
            "text/plain": [
              "array([ 0,  1,  2,  3,  4,  5,  6,  7,  8,  9, 10, 11, 12, 13, 14, 15, 16,\n",
              "       17, 18, 19, 20, 21, 22, 23])"
            ]
          },
          "execution_count": 131,
          "metadata": {},
          "output_type": "execute_result"
        }
      ],
      "source": [
        "y = np.arange(2*3*4)\n",
        "y"
      ]
    },
    {
      "cell_type": "code",
      "execution_count": null,
      "metadata": {
        "id": "6nNBGA2WIiWu",
        "outputId": "e67899d3-9d5d-42c1-8eef-f01321d58edb"
      },
      "outputs": [
        {
          "data": {
            "text/plain": [
              "array([[[ 0,  1,  2,  3],\n",
              "        [ 4,  5,  6,  7]],\n",
              "\n",
              "       [[ 8,  9, 10, 11],\n",
              "        [12, 13, 14, 15]],\n",
              "\n",
              "       [[16, 17, 18, 19],\n",
              "        [20, 21, 22, 23]]])"
            ]
          },
          "execution_count": 132,
          "metadata": {},
          "output_type": "execute_result"
        }
      ],
      "source": [
        "y.reshape(3,2,4)"
      ]
    },
    {
      "cell_type": "markdown",
      "metadata": {
        "id": "FydTRzQ9IiWu"
      },
      "source": [
        "Examples of NumPy arrays:\n",
        "\n",
        "![test.png](attachment:test.png)"
      ]
    },
    {
      "cell_type": "code",
      "execution_count": null,
      "metadata": {
        "id": "6876tKNyIiWu",
        "outputId": "2929aae3-c9da-4668-c005-9f0eea71b237"
      },
      "outputs": [
        {
          "data": {
            "text/plain": [
              "array([ 0,  1,  2,  3,  4,  5,  6,  7,  8,  9, 10, 11, 12, 13, 14, 15, 16,\n",
              "       17, 18, 19, 20, 21, 22, 23])"
            ]
          },
          "execution_count": 133,
          "metadata": {},
          "output_type": "execute_result"
        }
      ],
      "source": [
        "y"
      ]
    },
    {
      "cell_type": "code",
      "execution_count": null,
      "metadata": {
        "id": "CCnai7ZiIiWu",
        "outputId": "671a1189-5033-4717-de3c-39e2cae75e32"
      },
      "outputs": [
        {
          "data": {
            "text/plain": [
              "array([[[ 0,  1,  2,  3],\n",
              "        [ 4,  5,  6,  7]],\n",
              "\n",
              "       [[ 8,  9, 10, 11],\n",
              "        [12, 13, 14, 15]],\n",
              "\n",
              "       [[16, 17, 18, 19],\n",
              "        [20, 21, 22, 23]]])"
            ]
          },
          "execution_count": 134,
          "metadata": {},
          "output_type": "execute_result"
        }
      ],
      "source": [
        "y = y.reshape(3,2,4)\n",
        "y"
      ]
    },
    {
      "cell_type": "code",
      "execution_count": null,
      "metadata": {
        "id": "pe13xz2IIiWu",
        "outputId": "07b134c7-f67a-4d68-b939-920691b122a4"
      },
      "outputs": [
        {
          "data": {
            "text/plain": [
              "array([[0, 1, 2, 3],\n",
              "       [4, 5, 6, 7]])"
            ]
          },
          "execution_count": 135,
          "metadata": {},
          "output_type": "execute_result"
        }
      ],
      "source": [
        "x"
      ]
    },
    {
      "cell_type": "code",
      "execution_count": null,
      "metadata": {
        "id": "Xk8eYIATIiWu",
        "outputId": "4dde2bb2-9da9-4691-cb5a-4039a6d6d0fb"
      },
      "outputs": [
        {
          "data": {
            "text/plain": [
              "array([[[ 0,  1,  2,  3],\n",
              "        [ 4,  5,  6,  7]],\n",
              "\n",
              "       [[ 8,  9, 10, 11],\n",
              "        [12, 13, 14, 15]],\n",
              "\n",
              "       [[16, 17, 18, 19],\n",
              "        [20, 21, 22, 23]]])"
            ]
          },
          "execution_count": 136,
          "metadata": {},
          "output_type": "execute_result"
        }
      ],
      "source": [
        "z = np.array([x, x+8, x+16])\n",
        "z"
      ]
    },
    {
      "cell_type": "code",
      "execution_count": null,
      "metadata": {
        "id": "Pk2-sGC0IiWu",
        "outputId": "74039a46-33de-4d53-90e0-5599043129a4"
      },
      "outputs": [
        {
          "data": {
            "text/plain": [
              "array([[ 0,  1,  2,  3],\n",
              "       [ 4,  5,  6,  7],\n",
              "       [ 8,  9, 10, 11],\n",
              "       [12, 13, 14, 15],\n",
              "       [16, 17, 18, 19],\n",
              "       [20, 21, 22, 23]])"
            ]
          },
          "execution_count": 137,
          "metadata": {},
          "output_type": "execute_result"
        }
      ],
      "source": [
        "np.r_[x, x+8, x+16]"
      ]
    },
    {
      "cell_type": "code",
      "execution_count": null,
      "metadata": {
        "id": "Sez1zM6mIiWu",
        "outputId": "eddb963e-4558-4345-8b67-78dfd05ccbcb"
      },
      "outputs": [
        {
          "data": {
            "text/plain": [
              "array([[0, 1, 2, 3],\n",
              "       [4, 5, 6, 7],\n",
              "       [4, 5, 6, 7]])"
            ]
          },
          "execution_count": 154,
          "metadata": {},
          "output_type": "execute_result"
        }
      ],
      "source": [
        "np.r_[x, x[1:]]\n",
        "#a = np.array([1,2,4,5,6])\n",
        "#print(a)\n",
        "#aux2=a[1:].copy()\n",
        "#aux2.append(0)\n",
        "#np.r_[a,a[1:]+[0]].reshape(2,5)"
      ]
    },
    {
      "cell_type": "code",
      "execution_count": null,
      "metadata": {
        "id": "M1JNHY57IiWu",
        "outputId": "12f68e43-4105-4c14-b7bb-460d94748d9c"
      },
      "outputs": [
        {
          "data": {
            "text/plain": [
              "array([[ 0,  1,  2,  3,  8,  9, 10, 11, 16, 17, 18, 19],\n",
              "       [ 4,  5,  6,  7, 12, 13, 14, 15, 20, 21, 22, 23]])"
            ]
          },
          "execution_count": 155,
          "metadata": {},
          "output_type": "execute_result"
        }
      ],
      "source": [
        "np.c_[x, x+8, x+16]"
      ]
    },
    {
      "cell_type": "code",
      "execution_count": null,
      "metadata": {
        "id": "8iNlJmfhIiWu"
      },
      "outputs": [],
      "source": []
    },
    {
      "cell_type": "code",
      "execution_count": null,
      "metadata": {
        "id": "rwi4hU9nIiWu",
        "outputId": "fffae285-b399-454c-8302-28892ac0fcc8"
      },
      "outputs": [
        {
          "name": "stdout",
          "output_type": "stream",
          "text": [
            "[1 2 3]\n"
          ]
        },
        {
          "data": {
            "text/plain": [
              "(3,)"
            ]
          },
          "execution_count": 156,
          "metadata": {},
          "output_type": "execute_result"
        }
      ],
      "source": [
        "a = np.array([1,2,3])\n",
        "print(a)\n",
        "a.shape"
      ]
    },
    {
      "cell_type": "code",
      "execution_count": null,
      "metadata": {
        "id": "gDsZ6nJgIiWu",
        "outputId": "929e09c7-c7a2-4b13-f49e-34db3a98a0ec"
      },
      "outputs": [
        {
          "data": {
            "text/plain": [
              "array([2, 3])"
            ]
          },
          "execution_count": 157,
          "metadata": {},
          "output_type": "execute_result"
        }
      ],
      "source": [
        "aux2 = a[1:].copy()\n",
        "aux2"
      ]
    },
    {
      "cell_type": "code",
      "execution_count": null,
      "metadata": {
        "id": "o24CIWVkIiWu",
        "outputId": "686ef792-635a-469f-f459-489fff7a07c2"
      },
      "outputs": [
        {
          "data": {
            "text/plain": [
              "array([1, 2, 3])"
            ]
          },
          "execution_count": 158,
          "metadata": {},
          "output_type": "execute_result"
        }
      ],
      "source": [
        "a.T"
      ]
    },
    {
      "cell_type": "code",
      "execution_count": null,
      "metadata": {
        "id": "wtgrvI-dIiWu",
        "outputId": "422cbd4b-9ce6-48c1-d751-3447ce032f15"
      },
      "outputs": [
        {
          "name": "stdout",
          "output_type": "stream",
          "text": [
            "[[1 2 3]]\n"
          ]
        },
        {
          "data": {
            "text/plain": [
              "(1, 3)"
            ]
          },
          "execution_count": 160,
          "metadata": {},
          "output_type": "execute_result"
        }
      ],
      "source": [
        "b = np.array([[1,2,3]])\n",
        "print(b)\n",
        "b.shape"
      ]
    },
    {
      "cell_type": "code",
      "execution_count": null,
      "metadata": {
        "id": "w0NsvxPZIiWv",
        "outputId": "6681326b-a6bd-4e06-89b6-0cc68f8bba5c"
      },
      "outputs": [
        {
          "data": {
            "text/plain": [
              "array([[1],\n",
              "       [2],\n",
              "       [3]])"
            ]
          },
          "execution_count": 161,
          "metadata": {},
          "output_type": "execute_result"
        }
      ],
      "source": [
        "b.T"
      ]
    },
    {
      "cell_type": "code",
      "execution_count": null,
      "metadata": {
        "id": "sno1O1KlIiWv",
        "outputId": "a0b28cb9-d618-49c2-b339-b12f7c0e67f9"
      },
      "outputs": [
        {
          "data": {
            "text/plain": [
              "(3, 1)"
            ]
          },
          "execution_count": 162,
          "metadata": {},
          "output_type": "execute_result"
        }
      ],
      "source": [
        "b.T.shape"
      ]
    },
    {
      "cell_type": "code",
      "execution_count": null,
      "metadata": {
        "id": "WzYfG6ukIiWv",
        "outputId": "0c579708-5e5b-4c99-c19f-79af01d3464f"
      },
      "outputs": [
        {
          "name": "stdout",
          "output_type": "stream",
          "text": [
            "[[1]\n",
            " [2]\n",
            " [3]]\n"
          ]
        },
        {
          "data": {
            "text/plain": [
              "(3, 1)"
            ]
          },
          "execution_count": 163,
          "metadata": {},
          "output_type": "execute_result"
        }
      ],
      "source": [
        "c = np.array([[1],[2],[3]])\n",
        "print(c)\n",
        "c.shape"
      ]
    },
    {
      "cell_type": "code",
      "execution_count": null,
      "metadata": {
        "id": "rNELEYpEIiWx",
        "outputId": "c2206225-992f-4ec0-9dbc-f78e3064e871"
      },
      "outputs": [
        {
          "name": "stdout",
          "output_type": "stream",
          "text": [
            "[[1 2 3]]\n"
          ]
        }
      ],
      "source": [
        "print(c.reshape(1,-1))"
      ]
    },
    {
      "cell_type": "code",
      "execution_count": null,
      "metadata": {
        "id": "ns0panrpIiWx",
        "outputId": "f12e74be-9745-46da-aa15-b00dba3e3838"
      },
      "outputs": [
        {
          "name": "stdout",
          "output_type": "stream",
          "text": [
            "[1 2 3]\n"
          ]
        }
      ],
      "source": [
        "print(c.reshape(-1))"
      ]
    },
    {
      "cell_type": "code",
      "execution_count": null,
      "metadata": {
        "id": "6Y153hG3IiWx"
      },
      "outputs": [],
      "source": []
    },
    {
      "cell_type": "code",
      "execution_count": null,
      "metadata": {
        "id": "vQdh4Al4IiWx",
        "outputId": "7732f446-3e40-4bbd-bdae-6ed3715d2891"
      },
      "outputs": [
        {
          "data": {
            "text/plain": [
              "array([[0, 1, 2, 3],\n",
              "       [4, 5, 6, 7]])"
            ]
          },
          "execution_count": 168,
          "metadata": {},
          "output_type": "execute_result"
        }
      ],
      "source": [
        "x"
      ]
    },
    {
      "cell_type": "code",
      "execution_count": null,
      "metadata": {
        "id": "GkG0wfC9IiWx",
        "outputId": "fd7b9c62-f1ee-4cfe-9701-faac272c0587"
      },
      "outputs": [
        {
          "data": {
            "text/plain": [
              "array([0, 1, 2, 3])"
            ]
          },
          "execution_count": 169,
          "metadata": {},
          "output_type": "execute_result"
        }
      ],
      "source": [
        "x[0]"
      ]
    },
    {
      "cell_type": "code",
      "execution_count": null,
      "metadata": {
        "id": "v_S9ZaRlIiWx",
        "outputId": "352ff323-aac4-4378-f12b-30a823420a89"
      },
      "outputs": [
        {
          "data": {
            "text/plain": [
              "array([0, 1, 2, 3])"
            ]
          },
          "execution_count": 170,
          "metadata": {},
          "output_type": "execute_result"
        }
      ],
      "source": [
        "x[0,:]"
      ]
    },
    {
      "cell_type": "code",
      "execution_count": null,
      "metadata": {
        "id": "YB9fDuVkIiWx",
        "outputId": "19ccb241-8be0-4013-9b8e-81f62d743536"
      },
      "outputs": [
        {
          "data": {
            "text/plain": [
              "array([0, 4])"
            ]
          },
          "execution_count": 171,
          "metadata": {},
          "output_type": "execute_result"
        }
      ],
      "source": [
        "x[:,0]"
      ]
    },
    {
      "cell_type": "code",
      "execution_count": null,
      "metadata": {
        "id": "I2KsW_HsIiWx",
        "outputId": "48bb1518-ce91-4a03-b8b0-b1384421b080"
      },
      "outputs": [
        {
          "data": {
            "text/plain": [
              "array([[1, 2, 0, 0, 0, 2],\n",
              "       [5, 6, 4, 4, 4, 6]])"
            ]
          },
          "execution_count": 172,
          "metadata": {},
          "output_type": "execute_result"
        }
      ],
      "source": [
        "x[:,[1,2,0,0,0,2]]"
      ]
    },
    {
      "cell_type": "code",
      "execution_count": null,
      "metadata": {
        "id": "wHfpW6Z-IiWx",
        "outputId": "2dd6c3eb-c49e-4ee0-be2e-b6e63f62dc3d"
      },
      "outputs": [
        {
          "data": {
            "text/plain": [
              "array([[4, 5, 6, 7],\n",
              "       [0, 1, 2, 3],\n",
              "       [4, 5, 6, 7]])"
            ]
          },
          "execution_count": 149,
          "metadata": {},
          "output_type": "execute_result"
        }
      ],
      "source": [
        "x[[1,0,1],:]"
      ]
    },
    {
      "cell_type": "code",
      "execution_count": null,
      "metadata": {
        "id": "AfDXqwjZIiWx",
        "outputId": "948bb851-3b3f-4e05-9563-71c19d65e3d5"
      },
      "outputs": [
        {
          "data": {
            "text/plain": [
              "array([0, 4])"
            ]
          },
          "execution_count": 173,
          "metadata": {},
          "output_type": "execute_result"
        }
      ],
      "source": [
        "x[:,0]"
      ]
    },
    {
      "cell_type": "code",
      "execution_count": null,
      "metadata": {
        "id": "ny6y5d0SIiWx",
        "outputId": "8704ea86-4281-4b84-8170-31546a6bacbf"
      },
      "outputs": [
        {
          "data": {
            "text/plain": [
              "array([[0],\n",
              "       [4]])"
            ]
          },
          "execution_count": 175,
          "metadata": {},
          "output_type": "execute_result"
        }
      ],
      "source": [
        "x[:,[0]]"
      ]
    },
    {
      "cell_type": "code",
      "execution_count": null,
      "metadata": {
        "id": "M4KIxS4cIiWy"
      },
      "outputs": [],
      "source": []
    },
    {
      "cell_type": "code",
      "execution_count": null,
      "metadata": {
        "id": "d9q1fDE0IiWy",
        "outputId": "99233555-18db-4140-99ae-3a89a635fff7"
      },
      "outputs": [
        {
          "data": {
            "text/plain": [
              "array([0, 1, 2])"
            ]
          },
          "execution_count": 176,
          "metadata": {},
          "output_type": "execute_result"
        }
      ],
      "source": [
        "b = np.array([0,1,2])\n",
        "b"
      ]
    },
    {
      "cell_type": "code",
      "execution_count": null,
      "metadata": {
        "id": "uaKfcfMfIiWy",
        "outputId": "4f7a70bc-fd67-48be-f4db-c37037017c58"
      },
      "outputs": [
        {
          "data": {
            "text/plain": [
              "array([[0, 1, 2],\n",
              "       [3, 4, 5]])"
            ]
          },
          "execution_count": 179,
          "metadata": {},
          "output_type": "execute_result"
        }
      ],
      "source": [
        "A = np.array([[0,1,2],[3,4,5]])\n",
        "A"
      ]
    },
    {
      "cell_type": "code",
      "execution_count": null,
      "metadata": {
        "id": "Qd3LYzj2IiWy",
        "outputId": "ac53427a-eaa6-4b19-e09c-e14380ea48d7"
      },
      "outputs": [
        {
          "data": {
            "text/plain": [
              "array([ 5, 14])"
            ]
          },
          "execution_count": 180,
          "metadata": {},
          "output_type": "execute_result"
        }
      ],
      "source": [
        "A @ b #no.dot()"
      ]
    },
    {
      "cell_type": "code",
      "execution_count": null,
      "metadata": {
        "id": "4_usM1D1IiWy"
      },
      "outputs": [],
      "source": [
        "c = np.array([10,20])"
      ]
    },
    {
      "cell_type": "code",
      "execution_count": null,
      "metadata": {
        "id": "9eeAacZ-IiWy",
        "outputId": "3291b095-cb53-4d96-bf39-76cdcddb189a"
      },
      "outputs": [
        {
          "data": {
            "text/plain": [
              "array([ 60,  90, 120])"
            ]
          },
          "execution_count": 182,
          "metadata": {},
          "output_type": "execute_result"
        }
      ],
      "source": [
        "c @ A"
      ]
    },
    {
      "cell_type": "code",
      "execution_count": null,
      "metadata": {
        "id": "bt7lCvdZIiWy"
      },
      "outputs": [],
      "source": []
    },
    {
      "cell_type": "code",
      "execution_count": null,
      "metadata": {
        "id": "2Dav_MOZIiWy",
        "outputId": "7b6390c0-cb5f-42db-ac6f-00ea3a76799e"
      },
      "outputs": [
        {
          "data": {
            "text/plain": [
              "array([[ 0,  9],\n",
              "       [ 3, 12],\n",
              "       [ 6, 15]])"
            ]
          },
          "execution_count": 183,
          "metadata": {},
          "output_type": "execute_result"
        }
      ],
      "source": [
        "B = 3*A.T\n",
        "B"
      ]
    },
    {
      "cell_type": "code",
      "execution_count": null,
      "metadata": {
        "id": "uz8ZsX_HIiWy",
        "outputId": "d1cdff60-7836-49cd-a3a0-8c2974be18d7"
      },
      "outputs": [
        {
          "data": {
            "text/plain": [
              "array([[ 15,  42],\n",
              "       [ 42, 150]])"
            ]
          },
          "execution_count": 184,
          "metadata": {},
          "output_type": "execute_result"
        }
      ],
      "source": [
        "A @ B"
      ]
    },
    {
      "cell_type": "code",
      "execution_count": null,
      "metadata": {
        "id": "OokolZWQIiWy"
      },
      "outputs": [],
      "source": []
    },
    {
      "cell_type": "code",
      "execution_count": null,
      "metadata": {
        "id": "e8zANmmuIiWy"
      },
      "outputs": [],
      "source": [
        "import matplotlib.pyplot as plt\n",
        "%matplotlib inline"
      ]
    },
    {
      "cell_type": "code",
      "execution_count": null,
      "metadata": {
        "id": "v0vNXlK7IiWy",
        "outputId": "415d37be-1ee5-484f-ae32-6895305b938a"
      },
      "outputs": [
        {
          "data": {
            "text/plain": [
              "array([1., 1., 1., 1.])"
            ]
          },
          "execution_count": 186,
          "metadata": {},
          "output_type": "execute_result"
        }
      ],
      "source": [
        "v = np.ones(4)\n",
        "v"
      ]
    },
    {
      "cell_type": "code",
      "execution_count": null,
      "metadata": {
        "id": "5kQdXJQRIiWy",
        "outputId": "066869dd-0606-4ab9-e00e-f27ae3396ded"
      },
      "outputs": [
        {
          "data": {
            "text/plain": [
              "array([[1., 1., 1., 1.]])"
            ]
          },
          "execution_count": 188,
          "metadata": {},
          "output_type": "execute_result"
        }
      ],
      "source": [
        "v = np.ones((1,4))\n",
        "v"
      ]
    },
    {
      "cell_type": "code",
      "execution_count": null,
      "metadata": {
        "id": "wyzpdgWTIiWy",
        "outputId": "e3c4febc-3799-4885-c40b-af244d28177e"
      },
      "outputs": [
        {
          "data": {
            "text/plain": [
              "array([[1.],\n",
              "       [1.],\n",
              "       [1.],\n",
              "       [1.]])"
            ]
          },
          "execution_count": 189,
          "metadata": {},
          "output_type": "execute_result"
        }
      ],
      "source": [
        "v = np.ones((4,1))\n",
        "v"
      ]
    },
    {
      "cell_type": "code",
      "execution_count": null,
      "metadata": {
        "id": "0j_5rplrIiWy",
        "outputId": "cd07c20a-0ae8-4719-fa63-98e2d5ebf7f2"
      },
      "outputs": [
        {
          "data": {
            "text/plain": [
              "array([[0., 0., 0.],\n",
              "       [0., 0., 0.]])"
            ]
          },
          "execution_count": 190,
          "metadata": {},
          "output_type": "execute_result"
        }
      ],
      "source": [
        "v = np.zeros((2,3))\n",
        "v"
      ]
    },
    {
      "cell_type": "markdown",
      "metadata": {
        "id": "p2Evuv3dIiWy"
      },
      "source": [
        "#### Broadcasting\n",
        "\n",
        "Veja mais em:\n",
        "- https://numpy.org/doc/stable/user/basics.broadcasting.html\n",
        "- http://scipy-lectures.org/intro/numpy/operations.html#broadcasting"
      ]
    },
    {
      "cell_type": "code",
      "execution_count": null,
      "metadata": {
        "id": "jlVhXhUVIiWy",
        "outputId": "dbb3ea11-4926-44a0-e451-8ef3ac04fb28"
      },
      "outputs": [
        {
          "data": {
            "text/plain": [
              "array([[0, 1, 2, 3]])"
            ]
          },
          "execution_count": 191,
          "metadata": {},
          "output_type": "execute_result"
        }
      ],
      "source": [
        "v = np.arange(4).reshape(1,4)\n",
        "v"
      ]
    },
    {
      "cell_type": "code",
      "execution_count": null,
      "metadata": {
        "id": "eAngnV1hIiWy",
        "outputId": "eb3e8318-4ce7-4aa5-ace5-86c0e38374b1"
      },
      "outputs": [
        {
          "data": {
            "text/plain": [
              "array([[10, 11, 12, 13]])"
            ]
          },
          "execution_count": 192,
          "metadata": {},
          "output_type": "execute_result"
        }
      ],
      "source": [
        "v + 10"
      ]
    },
    {
      "cell_type": "code",
      "execution_count": null,
      "metadata": {
        "id": "rwJQ209jIiWy",
        "outputId": "c51a9d53-6355-4d33-a12d-1f55ab5ae2ca"
      },
      "outputs": [
        {
          "data": {
            "text/plain": [
              "array([[0],\n",
              "       [1],\n",
              "       [2],\n",
              "       [3]])"
            ]
          },
          "execution_count": 193,
          "metadata": {},
          "output_type": "execute_result"
        }
      ],
      "source": [
        "v.T"
      ]
    },
    {
      "cell_type": "code",
      "execution_count": null,
      "metadata": {
        "id": "n0NXMQJMIiWy",
        "outputId": "49b1869d-f3f9-4f60-f27a-6dd86872c9c4"
      },
      "outputs": [
        {
          "data": {
            "text/plain": [
              "array([[0, 1, 2, 3],\n",
              "       [1, 2, 3, 4],\n",
              "       [2, 3, 4, 5],\n",
              "       [3, 4, 5, 6]])"
            ]
          },
          "execution_count": 195,
          "metadata": {},
          "output_type": "execute_result"
        }
      ],
      "source": [
        "# por que isso acontece?\n",
        "v + v.T"
      ]
    },
    {
      "cell_type": "code",
      "execution_count": null,
      "metadata": {
        "id": "EEYg23xnIiWy",
        "outputId": "2e6ab299-a771-4b8d-d167-c3ae05403bb6"
      },
      "outputs": [
        {
          "data": {
            "text/plain": [
              "array([[0, 1, 2, 3],\n",
              "       [4, 5, 6, 7]])"
            ]
          },
          "execution_count": 197,
          "metadata": {},
          "output_type": "execute_result"
        }
      ],
      "source": [
        "M = np.arange(8).reshape(2,-1)\n",
        "M"
      ]
    },
    {
      "cell_type": "code",
      "execution_count": null,
      "metadata": {
        "id": "IboLm47fIiWy",
        "outputId": "6a6a6d43-c5d9-47f7-97ca-a3f142a42ecd"
      },
      "outputs": [
        {
          "data": {
            "text/plain": [
              "array([[ 0,  2,  4,  6],\n",
              "       [ 4,  6,  8, 10]])"
            ]
          },
          "execution_count": 198,
          "metadata": {},
          "output_type": "execute_result"
        }
      ],
      "source": [
        "M + v"
      ]
    },
    {
      "cell_type": "code",
      "execution_count": null,
      "metadata": {
        "id": "VZwf69SFIiWy",
        "outputId": "d1fae821-09bb-45ba-d94f-7afed58e4aa6"
      },
      "outputs": [
        {
          "ename": "ValueError",
          "evalue": "operands could not be broadcast together with shapes (2,4) (4,1) ",
          "output_type": "error",
          "traceback": [
            "\u001b[1;31m---------------------------------------------------------------------------\u001b[0m",
            "\u001b[1;31mValueError\u001b[0m                                Traceback (most recent call last)",
            "\u001b[1;32m<ipython-input-200-1a7981558e60>\u001b[0m in \u001b[0;36m<module>\u001b[1;34m\u001b[0m\n\u001b[1;32m----> 1\u001b[1;33m \u001b[0mM\u001b[0m \u001b[1;33m+\u001b[0m \u001b[0mv\u001b[0m\u001b[1;33m.\u001b[0m\u001b[0mT\u001b[0m\u001b[1;33m\u001b[0m\u001b[1;33m\u001b[0m\u001b[0m\n\u001b[0m",
            "\u001b[1;31mValueError\u001b[0m: operands could not be broadcast together with shapes (2,4) (4,1) "
          ]
        }
      ],
      "source": [
        "M + v.T"
      ]
    },
    {
      "cell_type": "code",
      "execution_count": null,
      "metadata": {
        "id": "MrBuMTCwIiWy",
        "outputId": "a447dd4a-6875-4bf2-de48-a4aa5ef47752"
      },
      "outputs": [
        {
          "data": {
            "text/plain": [
              "array([0, 1, 2, 3])"
            ]
          },
          "execution_count": 201,
          "metadata": {},
          "output_type": "execute_result"
        }
      ],
      "source": [
        "v = np.arange(4)\n",
        "v"
      ]
    },
    {
      "cell_type": "code",
      "execution_count": null,
      "metadata": {
        "id": "RUeye40BIiWz",
        "outputId": "bfeca726-73fc-42ee-8b8b-7c9d2d7834fe"
      },
      "outputs": [
        {
          "data": {
            "text/plain": [
              "array([[ 0,  2,  4,  6],\n",
              "       [ 4,  6,  8, 10]])"
            ]
          },
          "execution_count": 202,
          "metadata": {},
          "output_type": "execute_result"
        }
      ],
      "source": [
        "M + v"
      ]
    },
    {
      "cell_type": "code",
      "execution_count": null,
      "metadata": {
        "id": "86TC9TJhIiWz",
        "outputId": "c9097eea-e12a-4751-f69a-aee7b667d46b"
      },
      "outputs": [
        {
          "data": {
            "text/plain": [
              "array([0, 1])"
            ]
          },
          "execution_count": 203,
          "metadata": {},
          "output_type": "execute_result"
        }
      ],
      "source": [
        "v = np.arange(2)\n",
        "v"
      ]
    },
    {
      "cell_type": "code",
      "execution_count": null,
      "metadata": {
        "id": "ua7wF-QRIiWz",
        "outputId": "498cd466-e9ee-4d60-9785-9aad88413ed6"
      },
      "outputs": [
        {
          "ename": "ValueError",
          "evalue": "operands could not be broadcast together with shapes (2,4) (2,) ",
          "output_type": "error",
          "traceback": [
            "\u001b[1;31m---------------------------------------------------------------------------\u001b[0m",
            "\u001b[1;31mValueError\u001b[0m                                Traceback (most recent call last)",
            "\u001b[1;32m<ipython-input-204-829bb6f9bba5>\u001b[0m in \u001b[0;36m<module>\u001b[1;34m\u001b[0m\n\u001b[1;32m----> 1\u001b[1;33m \u001b[0mM\u001b[0m \u001b[1;33m+\u001b[0m \u001b[0mv\u001b[0m\u001b[1;33m\u001b[0m\u001b[1;33m\u001b[0m\u001b[0m\n\u001b[0m",
            "\u001b[1;31mValueError\u001b[0m: operands could not be broadcast together with shapes (2,4) (2,) "
          ]
        }
      ],
      "source": [
        "M + v"
      ]
    },
    {
      "cell_type": "markdown",
      "metadata": {
        "id": "GnP26NQoIiWz"
      },
      "source": [
        "## Matplotlib"
      ]
    },
    {
      "cell_type": "code",
      "execution_count": null,
      "metadata": {
        "id": "H26QycRGIiWz"
      },
      "outputs": [],
      "source": [
        "import matplotlib.pyplot as plt\n",
        "%matplotlib inline"
      ]
    },
    {
      "cell_type": "code",
      "execution_count": null,
      "metadata": {
        "id": "gULDnRMxIiWz"
      },
      "outputs": [],
      "source": [
        "x = np.linspace(0,1,10)"
      ]
    },
    {
      "cell_type": "code",
      "execution_count": null,
      "metadata": {
        "id": "92Lk1jZ_IiWz",
        "outputId": "374c5163-0148-471a-fa3c-d810234c2382"
      },
      "outputs": [
        {
          "data": {
            "image/png": "[encoded data removed]",
            "text/plain": [
              "<Figure size 432x288 with 1 Axes>"
            ]
          },
          "metadata": {
            "needs_background": "light"
          },
          "output_type": "display_data"
        }
      ],
      "source": [
        "plt.plot(x, x**2, 'b.-', label='quadrado')\n",
        "plt.plot(x, np.sqrt(x), 'r.-', label='raiz quadrada')\n",
        "plt.xlabel('x');\n",
        "plt.ylabel('y');\n",
        "plt.title('Título');\n",
        "plt.legend();\n",
        "plt.show()"
      ]
    },
    {
      "cell_type": "code",
      "execution_count": null,
      "metadata": {
        "id": "6cRJeydeIiWz",
        "outputId": "cfe0348e-e8fe-4dd4-a81d-6b177b587d18"
      },
      "outputs": [
        {
          "data": {
            "image/png": "[encoded data removed]",
            "text/plain": [
              "<Figure size 432x288 with 2 Axes>"
            ]
          },
          "metadata": {
            "needs_background": "light"
          },
          "output_type": "display_data"
        }
      ],
      "source": [
        "image = np.random.randn(200,200)\n",
        "plt.imshow(image, cmap=plt.cm.gray)\n",
        "plt.colorbar()\n",
        "plt.axis('off');"
      ]
    },
    {
      "cell_type": "markdown",
      "metadata": {
        "id": "rs5VhxMYIiWz"
      },
      "source": [
        "#### Mais\n",
        "- NumPy (https://numpy.org/doc/stable/user/quickstart.html#less-basic), por exemplo *Indexing with Boolean Arrays*\n",
        "- Pandas\n",
        "- JupyterLab"
      ]
    },
    {
      "cell_type": "markdown",
      "metadata": {
        "id": "8Qr3LQ70IiWz"
      },
      "source": [
        "## OpenCV"
      ]
    },
    {
      "cell_type": "code",
      "execution_count": null,
      "metadata": {
        "id": "nGEzes7BIiWz"
      },
      "outputs": [],
      "source": [
        "import cv2"
      ]
    },
    {
      "cell_type": "code",
      "execution_count": null,
      "metadata": {
        "id": "ACt9nLBfIiWz"
      },
      "outputs": [],
      "source": [
        "img = cv2.imread('data/cmyk_paint.png',1)"
      ]
    },
    {
      "cell_type": "markdown",
      "metadata": {
        "id": "l6Y1-S0UIiWz"
      },
      "source": [
        "Não use ícone `X vermelho` para fechar a janela da imagem, isso irá travar o kernel do Jupyter. Para fechar uma imagem, use aperte alguma tecla (ex: epaço ou enter)."
      ]
    },
    {
      "cell_type": "code",
      "execution_count": null,
      "metadata": {
        "id": "Pn1ldpn5IiWz"
      },
      "outputs": [],
      "source": [
        "cv2.imshow('in', img)\n",
        "cv2.waitKey(0)\n",
        "cv2.destroyAllWindows()"
      ]
    },
    {
      "cell_type": "markdown",
      "metadata": {
        "id": "smQ7sPr7IiWz"
      },
      "source": [
        "#### Observação\n",
        "\n",
        "No Google Colab, você defe importar a `cv2_imshow` para poder exibir uma imagem, caso contrário você irá travar o kernel do Colab.\n",
        "\n",
        "use:\n",
        "\n",
        "`from google.colab.patches import cv2_imshow`\n",
        "\n",
        "...\n",
        "\n",
        "`img = cv2.imread(<imagem>,0)`\n",
        "\n",
        "....\n",
        "\n",
        "`cv2_imshow(img)\n",
        "cv2.waitKey(0)\n",
        "cv2.destroyAllWindows()`"
      ]
    },
    {
      "cell_type": "code",
      "execution_count": null,
      "metadata": {
        "id": "Wb_-D4ILIiWz",
        "outputId": "85dc34f4-b28f-48bb-ebdd-aa3324a68cf1"
      },
      "outputs": [
        {
          "data": {
            "text/plain": [
              "numpy.ndarray"
            ]
          },
          "execution_count": 23,
          "metadata": {},
          "output_type": "execute_result"
        }
      ],
      "source": [
        "type(img)"
      ]
    },
    {
      "cell_type": "code",
      "execution_count": null,
      "metadata": {
        "id": "9Sr1LyqEIiWz",
        "outputId": "8588f54a-0272-44c0-ec82-4e10b837304c"
      },
      "outputs": [
        {
          "data": {
            "text/plain": [
              "(425, 425, 3)"
            ]
          },
          "execution_count": 24,
          "metadata": {},
          "output_type": "execute_result"
        }
      ],
      "source": [
        "img.shape  #lembrando que retorna (linhas, colunas)"
      ]
    },
    {
      "cell_type": "code",
      "execution_count": null,
      "metadata": {
        "id": "MO3t5ItqIiWz",
        "outputId": "6c7573ee-38e7-40b7-d49d-f85fba03d243"
      },
      "outputs": [
        {
          "data": {
            "text/plain": [
              "True"
            ]
          },
          "execution_count": 25,
          "metadata": {},
          "output_type": "execute_result"
        }
      ],
      "source": [
        "cv2.imwrite('data/img_after_save.png', img)"
      ]
    },
    {
      "cell_type": "code",
      "execution_count": null,
      "metadata": {
        "id": "qfbU9atlIiWz"
      },
      "outputs": [],
      "source": [
        "B, G, R = cv2.split(img)"
      ]
    },
    {
      "cell_type": "code",
      "execution_count": null,
      "metadata": {
        "id": "TDboU96OIiW0"
      },
      "outputs": [],
      "source": [
        "cv2.imshow(\"original\", img)\n",
        "cv2.waitKey(0)\n",
        "\n",
        "cv2.imshow(\"blue\", B)\n",
        "cv2.waitKey(0)\n",
        "\n",
        "cv2.imshow(\"Green\", G)\n",
        "cv2.waitKey(0)\n",
        "\n",
        "cv2.imshow(\"red\", R)\n",
        "cv2.waitKey(0)\n",
        "\n",
        "cv2.destroyAllWindows()"
      ]
    },
    {
      "cell_type": "code",
      "execution_count": null,
      "metadata": {
        "id": "wXNrx2l1IiW0",
        "outputId": "eca4c76d-7582-4e23-9fe0-09fb9ee72f9a"
      },
      "outputs": [
        {
          "name": "stdout",
          "output_type": "stream",
          "text": [
            "[[33 29 29 ... 12 12 12]\n",
            " [33 32 32 ... 12 13 12]\n",
            " [41 38 39 ... 14 12 12]\n",
            " ...\n",
            " [46 26 19 ... 16 15 16]\n",
            " [28 22 17 ... 16 14 17]\n",
            " [24 19 16 ... 34 22 16]]\n"
          ]
        }
      ],
      "source": [
        "image1 = cv2.imread('data/t1.jpg',0)\n",
        "image2 = cv2.imread('data/t2.jpg',0)\n",
        "\n",
        "weightedSum = cv2.addWeighted(image1, 0.5, image2, 0.4, 0)\n",
        "\n",
        "cv2.imshow('Weighted Image', weightedSum)\n",
        "\n",
        "cv2.waitKey(0)\n",
        "cv2.destroyAllWindows()\n",
        "\n",
        "print(weightedSum)"
      ]
    },
    {
      "cell_type": "code",
      "execution_count": null,
      "metadata": {
        "id": "JC3tTTFXIiW0",
        "outputId": "4a3cac94-d6aa-4e8c-e1b1-5332fbfd3522"
      },
      "outputs": [
        {
          "name": "stdout",
          "output_type": "stream",
          "text": [
            "(250, 500)\n",
            "(250, 500)\n",
            "[[32 32 32 ... 15 15 15]\n",
            " [32 32 32 ... 16 16 16]\n",
            " [32 32 32 ... 16 16 16]\n",
            " ...\n",
            " [27 27 25 ...  5  6  6]\n",
            " [31 25 22 ...  5  5  5]\n",
            " [31 25 22 ...  5  5  5]]\n"
          ]
        }
      ],
      "source": [
        "print(image1.shape)\n",
        "print(image2.shape)\n",
        "\n",
        "lines1, rows1 = image1.shape\n",
        "lines2, rows2 = image2.shape\n",
        "print(image1)"
      ]
    },
    {
      "cell_type": "code",
      "execution_count": null,
      "metadata": {
        "id": "sRspvxWwIiW0",
        "outputId": "50bab4a9-9284-464d-9ced-fc28397e58af"
      },
      "outputs": [
        {
          "name": "stdout",
          "output_type": "stream",
          "text": [
            "(250, 500)\n",
            "[[32 29 29 ... 12 11 12]\n",
            " [33 32 32 ... 12 12 12]\n",
            " [40 38 39 ... 14 12 11]\n",
            " ...\n",
            " [45 25 18 ... 15 15 15]\n",
            " [27 21 17 ... 16 14 17]\n",
            " [23 19 16 ... 34 22 15]]\n"
          ]
        }
      ],
      "source": [
        "import numpy as np\n",
        "\n",
        "image_aux = np.zeros([lines1, rows1])\n",
        "image_out = np.zeros([lines1, rows1])\n",
        "print(image_out.shape)\n",
        "for i in range(lines1):\n",
        "    for j in range(rows1):\n",
        "        image_aux[i][j] = 0.5*image1[i][j]+0.4*image2[i][j]\n",
        "\n",
        "#image_aux = 0.5*image1+0.4*image2\n",
        "\n",
        "image_out = np.array(image_aux, dtype=np.uint8)\n",
        "print(image_out)\n",
        "cv2.imshow('Image Out', image_out)\n",
        "\n",
        "cv2.waitKey(0)\n",
        "cv2.destroyAllWindows()\n"
      ]
    },
    {
      "cell_type": "code",
      "execution_count": null,
      "metadata": {
        "id": "ksO5MHbpIiW0"
      },
      "outputs": [],
      "source": [
        "image1 = cv2.imread('data/t3.jpg',0)\n",
        "image2 = cv2.imread('data/t4.jpg',0)\n",
        "\n",
        "sub = cv2.subtract(image1, image2)\n",
        "\n",
        "cv2.imshow('Subtracted Image', sub)\n",
        "\n",
        "cv2.waitKey(0)\n",
        "cv2.destroyAllWindows()"
      ]
    },
    {
      "cell_type": "code",
      "execution_count": null,
      "metadata": {
        "id": "T2FOTISMIiW0",
        "outputId": "c859e3b1-1578-4c8a-c173-b17330944482"
      },
      "outputs": [
        {
          "name": "stdout",
          "output_type": "stream",
          "text": [
            "(168, 300)\n",
            "(168, 300)\n",
            "[[0 0 0 ... 0 0 0]\n",
            " [0 0 0 ... 0 0 0]\n",
            " [0 0 0 ... 0 0 0]\n",
            " ...\n",
            " [0 0 0 ... 0 0 0]\n",
            " [0 0 0 ... 0 0 0]\n",
            " [0 0 0 ... 0 0 0]]\n"
          ]
        }
      ],
      "source": [
        "print(image1.shape)\n",
        "print(image2.shape)\n",
        "\n",
        "lines1, rows1 = image1.shape\n",
        "lines2, rows2 = image2.shape\n",
        "print(image1)"
      ]
    },
    {
      "cell_type": "code",
      "execution_count": null,
      "metadata": {
        "id": "KkyRZg0fIiW0",
        "outputId": "17f515c8-1659-4d10-c8bd-8c82f1960cca"
      },
      "outputs": [
        {
          "name": "stdout",
          "output_type": "stream",
          "text": [
            "(168, 300)\n",
            "[[0 0 0 ... 0 0 0]\n",
            " [0 0 0 ... 0 0 0]\n",
            " [0 0 0 ... 0 0 0]\n",
            " ...\n",
            " [0 0 0 ... 0 0 0]\n",
            " [0 0 0 ... 0 0 0]\n",
            " [0 0 0 ... 0 0 0]]\n"
          ]
        }
      ],
      "source": [
        "image_aux1 = np.zeros([lines1, rows1])\n",
        "image_out1 = np.zeros([lines1, rows1])\n",
        "\n",
        "print(image_out1.shape)\n",
        "\n",
        "for i in range(lines1):\n",
        "    for j in range(rows1):\n",
        "        if (int(image1[i][j])-int(image2[i][j]) >= 0) and (int(image1[i][j])-int(image2[i][j]) <= 255):\n",
        "            image_aux1[i][j] = int(image1[i][j])-int(image2[i][j])\n",
        "        else:\n",
        "            image_aux1[i][j] = 0\n",
        "\n",
        "image_out1 = np.array(image_aux1, dtype=np.uint8)\n",
        "print(image_out1)\n",
        "cv2.imshow('Image Out', image_out1)\n",
        "\n",
        "cv2.waitKey(0)\n",
        "cv2.destroyAllWindows()"
      ]
    },
    {
      "cell_type": "code",
      "execution_count": null,
      "metadata": {
        "id": "AzVjhyr9IiW0"
      },
      "outputs": [],
      "source": [
        "imgColored = cv2.imread('data/t1.jpg')\n",
        "gray_img = cv2.cvtColor(imgColored, cv2.COLOR_BGR2GRAY)\n",
        "\n",
        "cv2.imshow('Image in', imgColored)\n",
        "cv2.waitKey(0)\n",
        "\n",
        "cv2.imshow('Image Out', gray_img)\n",
        "cv2.waitKey(0)\n",
        "\n",
        "cv2.destroyAllWindows()"
      ]
    },
    {
      "cell_type": "code",
      "execution_count": null,
      "metadata": {
        "id": "RigNYFHkIiW0",
        "outputId": "65984115-c6bb-4209-9f1a-54ad78a9509b"
      },
      "outputs": [
        {
          "name": "stdout",
          "output_type": "stream",
          "text": [
            "(250, 499)\n",
            "(250, 499)\n"
          ]
        }
      ],
      "source": [
        "image1 = cv2.imread('data/t5.png',0)\n",
        "image2 = cv2.imread('data/t6.png',0)\n",
        "\n",
        "dest_and = cv2.bitwise_and(image1, image2, mask = None)\n",
        "\n",
        "cv2.imshow('AND Image', dest_and)\n",
        "\n",
        "cv2.waitKey(0)\n",
        "cv2.destroyAllWindows()\n",
        "\n",
        "print(image1.shape)\n",
        "print(image2.shape)"
      ]
    },
    {
      "cell_type": "code",
      "execution_count": null,
      "metadata": {
        "id": "KluTfYoOIiW0",
        "outputId": "a4ced8d5-9727-45ce-c532-bb0f3afd515a"
      },
      "outputs": [
        {
          "name": "stdout",
          "output_type": "stream",
          "text": [
            "(250, 499)\n",
            "[[0 0 0 ... 0 0 0]\n",
            " [0 0 0 ... 0 0 0]\n",
            " [0 0 0 ... 0 0 0]\n",
            " ...\n",
            " [0 0 0 ... 0 0 0]\n",
            " [0 0 0 ... 0 0 0]\n",
            " [0 0 0 ... 0 0 0]]\n"
          ]
        }
      ],
      "source": [
        "lines1, rows1 = image1.shape\n",
        "lines2, rows2 = image2.shape\n",
        "\n",
        "image_aux = np.zeros([lines1, rows1])\n",
        "image_out = np.zeros([lines1, rows1])\n",
        "\n",
        "print(image_out.shape)\n",
        "for i in range(lines1):\n",
        "    for j in range(rows1):\n",
        "        image_aux[i][j] = image1[i][j] & image2[i][j]  # tente com OR: |, XOR: ^, NOT: ~\n",
        "\n",
        "#image_aux = image1 & image2\n",
        "\n",
        "image_out = np.array(image_aux, dtype=np.uint8)\n",
        "print(image_out)\n",
        "cv2.imshow('AND Image', image_out)\n",
        "\n",
        "cv2.waitKey(0)\n",
        "cv2.destroyAllWindows()"
      ]
    },
    {
      "cell_type": "code",
      "execution_count": null,
      "metadata": {
        "id": "GZys6_VvIiW0"
      },
      "outputs": [],
      "source": []
    }
  ],
  "metadata": {
    "kernelspec": {
      "display_name": "Python 3",
      "language": "python",
      "name": "python3"
    },
    "language_info": {
      "codemirror_mode": {
        "name": "ipython",
        "version": 3
      },
      "file_extension": ".py",
      "mimetype": "text/x-python",
      "name": "python",
      "nbconvert_exporter": "python",
      "pygments_lexer": "ipython3",
      "version": "3.8.5"
    },
    "colab": {
      "provenance": [],
      "include_colab_link": true
    }
  },
  "nbformat": 4,
  "nbformat_minor": 0
}